{
  "nbformat": 4,
  "nbformat_minor": 0,
  "metadata": {
    "colab": {
      "name": "MinCuadrados.ipynb",
      "provenance": [],
      "include_colab_link": true
    },
    "kernelspec": {
      "name": "python3",
      "display_name": "Python 3"
    },
    "language_info": {
      "name": "python"
    }
  },
  "cells": [
    {
      "cell_type": "markdown",
      "metadata": {
        "id": "view-in-github",
        "colab_type": "text"
      },
      "source": [
        "<a href=\"https://colab.research.google.com/github/liachicue/Linear_Classifier_Models/blob/main/MinCuadrados.ipynb\" target=\"_parent\"><img src=\"https://colab.research.google.com/assets/colab-badge.svg\" alt=\"Open In Colab\"/></a>"
      ]
    },
    {
      "cell_type": "code",
      "metadata": {
        "id": "OXCFyOt9WWUp"
      },
      "source": [
        "import numpy as np\n",
        "import matplotlib.pyplot as plt\n",
        "import pandas as pd\n",
        "import seaborn as sns\n",
        "from sklearn.utils.validation import check_random_state\n",
        "from sklearn.linear_model import LogisticRegression\n",
        "from sklearn.model_selection import train_test_split\n",
        "from sklearn.metrics import accuracy_score, confusion_matrix, ConfusionMatrixDisplay"
      ],
      "execution_count": null,
      "outputs": []
    },
    {
      "cell_type": "code",
      "metadata": {
        "colab": {
          "resources": {
            "http://localhost:8080/nbextensions/google.colab/files.js": {
              "data": "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",
              "ok": true,
              "headers": [
                [
                  "content-type",
                  "application/javascript"
                ]
              ],
              "status": 200,
              "status_text": ""
            }
          },
          "base_uri": "https://localhost:8080/",
          "height": 74
        },
        "id": "xlk7fTySYXLv",
        "outputId": "c81416e1-3d55-46d4-a195-ef3dd3001b2a"
      },
      "source": [
        "from google.colab import files\n",
        "uploaded = files.upload()"
      ],
      "execution_count": null,
      "outputs": [
        {
          "output_type": "display_data",
          "data": {
            "text/html": [
              "\n",
              "     <input type=\"file\" id=\"files-9de26c22-7ca6-4e50-9680-07aadf68f8f6\" name=\"files[]\" multiple disabled\n",
              "        style=\"border:none\" />\n",
              "     <output id=\"result-9de26c22-7ca6-4e50-9680-07aadf68f8f6\">\n",
              "      Upload widget is only available when the cell has been executed in the\n",
              "      current browser session. Please rerun this cell to enable.\n",
              "      </output>\n",
              "      <script src=\"/nbextensions/google.colab/files.js\"></script> "
            ],
            "text/plain": [
              "<IPython.core.display.HTML object>"
            ]
          },
          "metadata": {}
        },
        {
          "output_type": "stream",
          "name": "stdout",
          "text": [
            "Saving Stars.csv to Stars.csv\n"
          ]
        }
      ]
    },
    {
      "cell_type": "code",
      "metadata": {
        "id": "nimywmEdYYkQ"
      },
      "source": [
        "dfStars = pd.read_csv('Stars.csv')\n",
        "#dfPD = pd.read_csv('pd_speech_features.csv')"
      ],
      "execution_count": null,
      "outputs": []
    },
    {
      "cell_type": "markdown",
      "metadata": {
        "id": "uJdOXOz1yEy7"
      },
      "source": [
        "## Estrellas"
      ]
    },
    {
      "cell_type": "markdown",
      "metadata": {
        "id": "gSeNzbVMC9fJ"
      },
      "source": [
        "**Observaciones**\n",
        "\n",
        "Con el fin de utilizar la funcion train_test, debemos escojer un tamaño que le convenga a las funciones matematicas o algo asi wey idk los tamaños de xtrain y ytest deben ser iguales. test_size = 0.5, tenemos un valor de Acc(%):  17.5.\n",
        "\n",
        "Sin embargo, se observo que, sin realizar la partitura de datos, el acc es mejor  Acc(%):  34.583333333333336"
      ]
    },
    {
      "cell_type": "code",
      "metadata": {
        "id": "Zn1m-e_qyU3W"
      },
      "source": [
        "dfStars[\"Color\"] = dfStars[\"Color\"].astype('category').cat.codes\n",
        "dfStars[\"Spectral_Class\"] = dfStars[\"Spectral_Class\"].astype('category').cat.codes #Se esta tratando como una categoria"
      ],
      "execution_count": null,
      "outputs": []
    },
    {
      "cell_type": "code",
      "metadata": {
        "id": "BxbdaXYHyYnT"
      },
      "source": [
        "X = dfStars.drop(columns=['Type'])\n",
        "t = dfStars['Type']"
      ],
      "execution_count": null,
      "outputs": []
    },
    {
      "cell_type": "code",
      "metadata": {
        "id": "WuH48x2YFj7x"
      },
      "source": [
        "X = X.iloc[:,:2]"
      ],
      "execution_count": null,
      "outputs": []
    },
    {
      "cell_type": "code",
      "metadata": {
        "id": "FmhCPeVKBb23"
      },
      "source": [
        "Xtrain, Xtest, ytrain, ytest = train_test_split(X,t,test_size = 0.5, random_state = 123)"
      ],
      "execution_count": null,
      "outputs": []
    },
    {
      "cell_type": "code",
      "metadata": {
        "colab": {
          "base_uri": "https://localhost:8080/",
          "height": 631
        },
        "id": "wnJ60HHLytRr",
        "outputId": "d774bb98-cf0b-491b-bf49-0e6a22885f6d"
      },
      "source": [
        "y = ytrain.shape[0]\n",
        "\n",
        "T1 = np.tile([1.,0.,0.,0.,0.,0.],(40,1))\n",
        "T2 = np.tile([0.,1.,0.,0.,0.,0.],(40,1))\n",
        "T3 = np.tile([0.,0.,1.,0.,0.,0.],(40,1))\n",
        "T4 = np.tile([0.,0.,0.,1.,0.,0.],(40,1))\n",
        "T5 = np.tile([0.,0.,0.,0.,1.,0.],(40,1))\n",
        "T6 = np.tile([0.,0.,0.,0.,0.,1.],(40,1))\n",
        "\n",
        "T1 = np.concatenate((T1,T2,T3,T4,T5,T6), axis=0)\n",
        "\n",
        "Xtilde = np.concatenate((np.ones((40*6,1)),X), axis = 1) #Vector de unos de 40*6 \n",
        "XtildeT = Xtilde.T\n",
        "\n",
        "# Calculamos nuestro modelo\n",
        "Wtilde_mse = np.linalg.inv(XtildeT@Xtilde)@(XtildeT@T1)#7,120 x 120,6\n",
        "\n",
        "print('Wtilde: \\n', Wtilde_mse) #Primer columna, modelo para clase 1; 2 datos, donde el primer dato es el bias y el otro es el W)\n",
        "                              # Y así para cada clase\n",
        "Y = Xtilde@Wtilde_mse\n",
        "print('Primeras 10 predicciones \\n', Y[:10,:])\n",
        "\n",
        "t_Est = np.argmax(Y,axis=1)\n",
        "\n",
        "acc = accuracy_score(t,t_Est)\n",
        "print('\\n Acc(%): ',acc*100)\n",
        "cMat = confusion_matrix(t,t_Est)\n",
        "ax = ConfusionMatrixDisplay(cMat, display_labels=dfStars['Type'].unique())\n",
        "ax.plot()\n",
        "plt.show()  "
      ],
      "execution_count": null,
      "outputs": [
        {
          "output_type": "stream",
          "name": "stdout",
          "text": [
            "Wtilde: \n",
            " [[ 2.36470446e-01  2.77757358e-01  1.30302171e-01  1.83805470e-01\n",
            "   2.07410552e-01 -3.57459981e-02]\n",
            " [-1.61637965e-06 -1.48344721e-05  3.87326309e-06  4.40950968e-06\n",
            "  -6.45354425e-06  1.46216232e-05]\n",
            " [-4.92925667e-07  4.16403629e-07 -4.00690785e-08 -5.91738363e-07\n",
            "   2.51911239e-07  4.56418241e-07]]\n",
            "Primeras 10 predicciones \n",
            " [[ 0.23151139  0.2322452   0.14218534  0.19733384  0.18761108  0.00911314]\n",
            " [ 0.23155342  0.23263089  0.14208464  0.1972192   0.18777887  0.00873298]\n",
            " [ 0.23226786  0.23918773  0.14037266  0.19527019  0.19063134  0.00227022]\n",
            " [ 0.23194458  0.23622084  0.14114731  0.1961521   0.18934063  0.00519455]\n",
            " [ 0.23333629  0.24899332  0.13781243  0.19235551  0.19489713 -0.00739467]\n",
            " [ 0.23187993  0.23562746  0.14130224  0.19632848  0.18908249  0.00577941]\n",
            " [ 0.23220805  0.23863886  0.14051597  0.19543335  0.19039256  0.00281122]\n",
            " [ 0.23226786  0.23918773  0.14037266  0.19527019  0.19063134  0.00227022]\n",
            " [ 0.23218704  0.23844601  0.14056632  0.19549067  0.19030866  0.0030013 ]\n",
            " [ 0.23210622  0.23770428  0.14075998  0.19571115  0.18998598  0.00373238]]\n",
            "\n",
            " Acc(%):  21.25\n"
          ]
        },
        {
          "output_type": "display_data",
          "data": {
            "image/png": "[encoded data removed]",
            "text/plain": [
              "<Figure size 432x288 with 2 Axes>"
            ]
          },
          "metadata": {
            "needs_background": "light"
          }
        }
      ]
    },
    {
      "cell_type": "code",
      "metadata": {
        "colab": {
          "base_uri": "https://localhost:8080/"
        },
        "id": "2eKmWg0bFzAQ",
        "outputId": "0069c259-8c82-4ca5-943d-6a1ebbdd7e5c"
      },
      "source": [
        "# Para el hiperplano asociado a w1\n",
        "wtilde_1 = Wtilde_mse[:,0]# El bias + (el modelo para W1)\n",
        "w1 = wtilde_1[1:]\n",
        "w_10 = wtilde_1[0]\n",
        "print('wtilde_1: ',wtilde_1,'\\n\\nw10, Bias: ',w_10,'\\n\\nw1, Modelo: ',w1)\n",
        "# Para la recta: y = m*x1 + b\n",
        "b = -w_10/np.linalg.norm(w1)\n",
        "print('\\n\\nEl intersecto:', b)"
      ],
      "execution_count": null,
      "outputs": [
        {
          "output_type": "stream",
          "name": "stdout",
          "text": [
            "wtilde_1:  [ 4.26617467e-01 -1.37033254e-05  1.74504377e-07 -8.65320810e-05\n",
            " -7.87746648e-03 -1.08798237e-02 -7.36521430e-03] \n",
            "\n",
            "w10, Bias:  0.42661746650140175 \n",
            "\n",
            "w1, Modelo:  [-1.37033254e-05  1.74504377e-07 -8.65320810e-05 -7.87746648e-03\n",
            " -1.08798237e-02 -7.36521430e-03]\n",
            "\n",
            "\n",
            "El intersecto: -27.848475485673152\n"
          ]
        }
      ]
    },
    {
      "cell_type": "code",
      "metadata": {
        "colab": {
          "base_uri": "https://localhost:8080/"
        },
        "id": "jWQKqEfQFs-x",
        "outputId": "6e4d0b1b-9455-40ca-a332-74b58c7276ef"
      },
      "source": [
        "#Mostremos las observaciones en las que el modelo se equivoco\n",
        "print('Etiquetas:', t[:10].to_numpy())\n",
        "print('Predicciones:', t_Est[:10])"
      ],
      "execution_count": null,
      "outputs": [
        {
          "output_type": "stream",
          "name": "stdout",
          "text": [
            "Etiquetas: [0 0 0 0 0 0 0 0 0 0]\n",
            "Predicciones: [0 0 0 0 0 1 0 5 4 0]\n"
          ]
        }
      ]
    },
    {
      "cell_type": "markdown",
      "metadata": {
        "id": "AJaUZTfrZhl2"
      },
      "source": [
        "## Parkinson"
      ]
    },
    {
      "cell_type": "markdown",
      "metadata": {
        "id": "wF8n8y-QbWH_"
      },
      "source": [
        "Cuando hacemos que la columna 'id' NO desaparezce\n",
        "*   X = X.iloc[:,:] ACC: 25.396825396825395\n",
        "*   X = X.iloc[:,:2]ACC: 46.42857142857143\n",
        "*   X = X.iloc[:,:4]ACC: 45.8994708994709\n",
        "*   X = X.iloc[:,:6] ACC:45.5026455026455\n",
        "*   X = X.iloc[:,:8] ACC: 45.370370370370374\n",
        "*   X = X.iloc[:,:338] Acc(%):  45.63492063492063\n",
        "*   X = X.iloc[:,:378] ACC: 46.164021164021165\n",
        "* X = X.iloc[:,:189] Acc(%):  45.767195767195766\n",
        "* X = X.iloc[:,:93] Acc 45.8994708994709\n",
        "\n",
        "Cuando hacemos que la columna 'id' desaparezca X = dfPD.drop(columns=['id'])\n",
        "\n",
        "*   X = X.iloc[:,:]#46.164021164021165\n",
        "*   X = X.iloc[:,:2]39.81481481481482\n",
        "*   X = X.iloc[:,:4]37.83068783068783\n",
        "*   X = X.iloc[:,:6] 38.75661375661375"
      ]
    },
    {
      "cell_type": "markdown",
      "metadata": {
        "id": "OOKJO-6yI0_Y"
      },
      "source": [
        "**Observaciones**\n",
        "\n",
        "Con el fin de utilizar la funcion train_test, debemos escojer un tamaño que le convenga a las funciones matematicas o algo asi wey idk los tamaños de xtrain y ytest deben ser iguales. test_size = 0.5, tenemos un valor de Acc(%):  52.38095238095239\n",
        "\n",
        "Sin embargo, se observo que, sin realizar la partitura de datos, el acc es mejor Acc(%):  25.396825396825395"
      ]
    },
    {
      "cell_type": "code",
      "metadata": {
        "id": "N7FEBDapZQdh",
        "colab": {
          "base_uri": "https://localhost:8080/",
          "height": 185
        },
        "outputId": "f740c598-79b9-49a2-8bdd-79ac6c73b10e"
      },
      "source": [
        " X =dfPD.drop(columns=['class']) # X sera Dataframe\n",
        " t = dfPD['class'] # Etiqueta"
      ],
      "execution_count": null,
      "outputs": [
        {
          "output_type": "error",
          "ename": "NameError",
          "evalue": "ignored",
          "traceback": [
            "\u001b[0;31m---------------------------------------------------------------------------\u001b[0m",
            "\u001b[0;31mNameError\u001b[0m                                 Traceback (most recent call last)",
            "\u001b[0;32m<ipython-input-10-c400a6d25efa>\u001b[0m in \u001b[0;36m<module>\u001b[0;34m()\u001b[0m\n\u001b[0;32m----> 1\u001b[0;31m \u001b[0mX\u001b[0m \u001b[0;34m=\u001b[0m\u001b[0mdfPD\u001b[0m\u001b[0;34m.\u001b[0m\u001b[0mdrop\u001b[0m\u001b[0;34m(\u001b[0m\u001b[0mcolumns\u001b[0m\u001b[0;34m=\u001b[0m\u001b[0;34m[\u001b[0m\u001b[0;34m'class'\u001b[0m\u001b[0;34m]\u001b[0m\u001b[0;34m)\u001b[0m \u001b[0;31m# X sera Dataframe\u001b[0m\u001b[0;34m\u001b[0m\u001b[0;34m\u001b[0m\u001b[0m\n\u001b[0m\u001b[1;32m      2\u001b[0m \u001b[0mt\u001b[0m \u001b[0;34m=\u001b[0m \u001b[0mdfPD\u001b[0m\u001b[0;34m[\u001b[0m\u001b[0;34m'class'\u001b[0m\u001b[0;34m]\u001b[0m \u001b[0;31m# Etiqueta\u001b[0m\u001b[0;34m\u001b[0m\u001b[0;34m\u001b[0m\u001b[0m\n",
            "\u001b[0;31mNameError\u001b[0m: name 'dfPD' is not defined"
          ]
        }
      ]
    },
    {
      "cell_type": "code",
      "metadata": {
        "id": "OtkPDolia9uF"
      },
      "source": [
        "X = X.iloc[:,2:4] #X.iloc[:,:4]\n",
        "X\n",
        "#X1 = X[:378]\n",
        "#X2 = X[378:]"
      ],
      "execution_count": null,
      "outputs": []
    },
    {
      "cell_type": "code",
      "metadata": {
        "id": "Q-qZ8SGf-tCt"
      },
      "source": [
        "X1 = X.iloc[:,:1]\n",
        "print(X1)\n",
        "X2 = X.iloc[:,1:2]\n",
        "print(X2)"
      ],
      "execution_count": null,
      "outputs": []
    },
    {
      "cell_type": "code",
      "metadata": {
        "id": "j15inbciHxML"
      },
      "source": [
        "#Xtrain, Xtest, ytrain, ytest = train_test_split(X,t,test_size = 0.5, random_state = 123)"
      ],
      "execution_count": null,
      "outputs": []
    },
    {
      "cell_type": "code",
      "metadata": {
        "id": "f7NzFNgVoAHa"
      },
      "source": [
        "T1 = np.tile([1.,0.],(378,1))\n",
        "T2 = np.tile([0.,1.],(378,1))\n",
        "T = np.concatenate((T1,T2), axis=0)\n",
        "\n",
        "Xtilde = np.concatenate((np.ones((378*2,1)),X), axis = 1) #Vector de unos de 378*2 \n",
        "\n",
        "XtildeT = Xtilde.T\n",
        "\n",
        "# Calculamos nuestro modelo\n",
        "Wtilde_mse = np.linalg.inv(XtildeT@Xtilde)@(XtildeT@T)\n",
        "\n",
        "#print('Wtilde: \\n', Wtilde_mse) #Primer columna, modelo para clase 1; 2 datos, donde el primer dato es el bias y el otro es el W)\n",
        "                              # Y así para cada clase\n",
        "Y = Xtilde@Wtilde_mse\n",
        "#print('\\n', Y[:10,:])\n",
        "\n",
        "t_Est = np.argmax(Y,axis=1)\n",
        "\n",
        "acc = accuracy_score(t,t_Est)\n",
        "print('\\n Acc(%): ',acc*100)\n",
        "cMat = confusion_matrix(t,t_Est)\n",
        "ax = ConfusionMatrixDisplay(cMat, display_labels= ['Negative','Positive'])\n",
        "ax.plot()\n",
        "plt.show()                              "
      ],
      "execution_count": null,
      "outputs": []
    },
    {
      "cell_type": "code",
      "metadata": {
        "id": "oodaJaGuqapD"
      },
      "source": [
        "#Mostremos las observaciones en las que el modelo se equivoco\n",
        "print('Etiquetas:', t[:10].to_numpy())\n",
        "print('Predicciones:', t_Est[:10])"
      ],
      "execution_count": null,
      "outputs": []
    },
    {
      "cell_type": "code",
      "metadata": {
        "id": "2nTCrKX2zicH"
      },
      "source": [
        "# Para el hiperplano asociado a w1\n",
        "wtilde_1 = Wtilde_mse[:,0]# El bias + (el modelo para W1)\n",
        "w1 = wtilde_1[1:]\n",
        "w_10 = wtilde_1[0]\n",
        "print('wtilde_1: ',wtilde_1,'\\nw10, Bias: ',w_10,'\\nw1, Modelo: ',w1)\n",
        "# Para la recta: y = m*x1 + b\n",
        "b = -w_10/np.linalg.norm(w1)\n",
        "print('El intersecto:', b)"
      ],
      "execution_count": null,
      "outputs": []
    },
    {
      "cell_type": "code",
      "metadata": {
        "id": "kF613j3838pT"
      },
      "source": [
        "plt.scatter(Xtrain.iloc[:,2:3],Xtrain.iloc[:,3:4],label='Clase 1')\n",
        "plt.scatter(Xtest.iloc[:,2:3],Xtest.iloc[:,3:4],label='Clase 2')\n",
        "plt.show()"
      ],
      "execution_count": null,
      "outputs": []
    },
    {
      "cell_type": "code",
      "metadata": {
        "id": "2V98_SuggwWw"
      },
      "source": [
        "x1 = np.linspace(0,1,378)#Varianción\n",
        "x2 = np.linspace(0,1,378)\n",
        "\n",
        "dataX1, dataX2 = np.meshgrid(x1,x2)#Utilizamos meshgrid para graficar el hiperplano\n",
        "dataMuestra = np.concatenate((dataX1.flatten().reshape(378**2,1),dataX2.flatten().reshape(378**2,1)),axis = 1)\n",
        "\n",
        "plt.scatter(Xtrain.iloc[:,2:3],Xtrain.iloc[:,3:4],label='Clase 1')\n",
        "plt.scatter(Xtest.iloc[:,2:3],Xtest.iloc[:,3:4],label='Clase 2')\n",
        "#plt.scatter(dataMuestra[:,0],dataMuestra[:,1],label='espacio muestral',alpha=0.2)\n",
        "\n",
        "\n",
        "# Se grafica la linea de decision\n",
        "\n",
        "aux = Wtilde_mse[:,0] - Wtilde_mse[:,1]; #Primert vector - segundo\n",
        "a = aux[0]#bias\n",
        "b = aux[1]#W1\n",
        "c = aux[2]#W2, la m siempre sera negativa, nos interesa la direccion del vector\n",
        "x1 = np.linspace(0,1, 100);\n",
        "x2 = -(b/c)*x1 - (a/c);\n",
        "\n",
        "plt.plot(x1, x2, 'k', 'linewidth', 1.5)\n",
        "\n",
        "\n",
        "plt.xlabel('x1')\n",
        "plt.ylabel('x2')\n",
        "plt.legend()\n",
        "plt.show()"
      ],
      "execution_count": null,
      "outputs": []
    },
    {
      "cell_type": "code",
      "metadata": {
        "id": "LZ22TeOfvtkj"
      },
      "source": [
        ""
      ],
      "execution_count": null,
      "outputs": []
    }
  ]
}