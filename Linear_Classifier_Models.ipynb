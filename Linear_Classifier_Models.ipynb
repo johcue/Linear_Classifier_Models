{
  "nbformat": 4,
  "nbformat_minor": 0,
  "metadata": {
    "colab": {
      "name": "Linear_Classifier_Models.ipynb",
      "provenance": [],
      "collapsed_sections": [],
      "include_colab_link": true
    },
    "kernelspec": {
      "name": "python3",
      "display_name": "Python 3"
    },
    "language_info": {
      "name": "python"
    }
  },
  "cells": [
    {
      "cell_type": "markdown",
      "metadata": {
        "id": "view-in-github",
        "colab_type": "text"
      },
      "source": [
        "<a href=\"https://colab.research.google.com/github/liachicue/Linear_Classifier_Models/blob/main/Linear_Classifier_Models.ipynb\" target=\"_parent\"><img src=\"https://colab.research.google.com/assets/colab-badge.svg\" alt=\"Open In Colab\"/></a>"
      ]
    },
    {
      "cell_type": "markdown",
      "metadata": {
        "id": "mYgIeoUP5Pfg"
      },
      "source": [
        "## MP2: Modelos Lineales para la Clasificación"
      ]
    },
    {
      "cell_type": "code",
      "metadata": {
        "id": "Ffcvgj0A5xQZ"
      },
      "source": [
        "import numpy as np\n",
        "import matplotlib.pyplot as plt\n",
        "import pandas as pd\n",
        "import seaborn as sns\n",
        "from sklearn.utils.validation import check_random_state\n",
        "from sklearn.linear_model import LogisticRegression\n",
        "from sklearn.model_selection import train_test_split\n",
        "from sklearn.metrics import accuracy_score, confusion_matrix, ConfusionMatrixDisplay\n",
        "from ipywidgets import interact, interactive, fixed, interact_manual\n",
        "import ipywidgets as widgets\n",
        "from sklearn.impute import SimpleImputer"
      ],
      "execution_count": null,
      "outputs": []
    },
    {
      "cell_type": "code",
      "metadata": {
        "id": "k3qimtAr55Sl",
        "colab": {
          "resources": {
            "http://localhost:8080/nbextensions/google.colab/files.js": {
              "data": "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",
              "ok": true,
              "headers": [
                [
                  "content-type",
                  "application/javascript"
                ]
              ],
              "status": 200,
              "status_text": ""
            }
          },
          "base_uri": "https://localhost:8080/",
          "height": 108
        },
        "outputId": "cae3dfcb-5607-403e-e44a-51f716e1d1fa"
      },
      "source": [
        "from google.colab import files\n",
        "uploaded = files.upload()"
      ],
      "execution_count": null,
      "outputs": [
        {
          "output_type": "display_data",
          "data": {
            "text/html": [
              "\n",
              "     <input type=\"file\" id=\"files-f5076e00-303a-4c6c-b5dc-171a27129654\" name=\"files[]\" multiple disabled\n",
              "        style=\"border:none\" />\n",
              "     <output id=\"result-f5076e00-303a-4c6c-b5dc-171a27129654\">\n",
              "      Upload widget is only available when the cell has been executed in the\n",
              "      current browser session. Please rerun this cell to enable.\n",
              "      </output>\n",
              "      <script src=\"/nbextensions/google.colab/files.js\"></script> "
            ],
            "text/plain": [
              "<IPython.core.display.HTML object>"
            ]
          },
          "metadata": {}
        },
        {
          "output_type": "stream",
          "name": "stdout",
          "text": [
            "Saving pd_speech_features.csv to pd_speech_features.csv\n",
            "Saving Stars.csv to Stars.csv\n"
          ]
        }
      ]
    },
    {
      "cell_type": "markdown",
      "metadata": {
        "id": "CFqqblBI_QDN"
      },
      "source": [
        "Se escoje el dataseet a estudiar. Tenemos dos dataseet, el primero corresponde a un tipo de Clasificación de Cuerpos Celestes de la NASA `dfStars`; y el ultimo dirigido a la detección del Párkinson a partir de señales de voz `dfPD`."
      ]
    },
    {
      "cell_type": "code",
      "metadata": {
        "colab": {
          "base_uri": "https://localhost:8080/"
        },
        "id": "uB1Jfcv_dg87",
        "cellView": "form",
        "outputId": "35371251-f7c9-4193-a5de-1043281f4b4e"
      },
      "source": [
        "#@title. { display-mode: \"form\" }\n",
        "\n",
        "DataSet = 'dfStars' #@param [\"dfStars\", \"dfPD\"]\n",
        "\n",
        "#Tenemos Estrellas\n",
        "dfStars = pd.read_csv('Stars.csv')\n",
        "dfStars[\"Color\"] = dfStars[\"Color\"].astype('category').cat.codes\n",
        "dfStars[\"Spectral_Class\"] = dfStars[\"Spectral_Class\"].astype('category').cat.codes\n",
        "\n",
        "\n",
        "\n",
        "\n",
        "#Tenemos Parkinson\n",
        "dfPD = pd.read_csv('pd_speech_features.csv')\n",
        "\n",
        "print('Se ha escogido', DataSet)\n"
      ],
      "execution_count": null,
      "outputs": [
        {
          "output_type": "stream",
          "name": "stdout",
          "text": [
            "Se ha escogido dfStars\n"
          ]
        }
      ]
    },
    {
      "cell_type": "code",
      "metadata": {
        "id": "SY69QWuvDM5A"
      },
      "source": [
        "# Estrellas\n",
        "X = dfStars.drop(columns=['Type'])\n",
        "t = dfStars['Type']"
      ],
      "execution_count": null,
      "outputs": []
    },
    {
      "cell_type": "code",
      "metadata": {
        "id": "Gc7nD_zADSl5"
      },
      "source": [
        " #Parkinson\n",
        " X =dfPD.drop(columns=['class']) \n",
        " t = dfPD['class'] "
      ],
      "execution_count": null,
      "outputs": []
    },
    {
      "cell_type": "markdown",
      "metadata": {
        "id": "UMKsmY4d9qQ0"
      },
      "source": [
        "Se realiza la separación de los datos de entrenamiento y los datos de prueba"
      ]
    },
    {
      "cell_type": "code",
      "metadata": {
        "id": "uu0lAzuR90JW"
      },
      "source": [
        "testSize = 0.7\n",
        "X_train, X_test, y_train, y_test = train_test_split(X,t,test_size = testSize, random_state = 123)"
      ],
      "execution_count": null,
      "outputs": []
    },
    {
      "cell_type": "markdown",
      "metadata": {
        "id": "GZJFlRi_BUJ8"
      },
      "source": [
        "Luego, seleccionamos el método de regresión linal:\n",
        "1.   Mínimos Cuadrados\n",
        "2.   Modelo Generativo - Gaussiano\n",
        "3.   Modelo Discriminativo - Regresión Logística"
      ]
    },
    {
      "cell_type": "markdown",
      "metadata": {
        "id": "meLyaYYcbEKX"
      },
      "source": [
        "### 1. Mínimos Cuadrados"
      ]
    },
    {
      "cell_type": "code",
      "metadata": {
        "id": "G7edSroOSIYV"
      },
      "source": [
        "def Norm_Val(Y):\n",
        "    n=Y.values.shape[0]\n",
        "    m=Y.unique().shape[0]\n",
        "    T = np.tile(np.zeros(m),(n,1))\n",
        "\n",
        "    for i in range(0,n):\n",
        "        for j in range(0,m):\n",
        "              if Y.values[i]==j:\n",
        "                  T[i,j]=1\n",
        "    return T\n",
        "\n",
        "def Modelo_MinCuadrados(DF, column, Xtrain,Xtest,ytrain,ytest):\n",
        "  Ytrain_1 = Norm_Val(ytrain)\n",
        "  Xtildetrain = np.concatenate((np.ones((ytrain.shape[0],1)),Xtrain), axis = 1) #Vector de unos de 40*6 \n",
        "  Xtildetest = np.concatenate((np.ones((ytest.shape[0],1)),Xtest), axis = 1)\n",
        "  \n",
        "  XtildeT_train = Xtildetrain.T\n",
        "  XtildeT_test = Xtildetest.T\n",
        "  \n",
        "  # Entrenamiento\n",
        "  Wtilde_mse = np.linalg.inv(XtildeT_train@Xtildetrain)@( XtildeT_train @ Ytrain_1 )\n",
        "  print('Wtilde: \\n', Wtilde_mse)\n",
        "  \n",
        "  Y = Xtildetest@Wtilde_mse\n",
        "  t_Est = np.argmax(Y,axis=1)\n",
        "\n",
        "  Y_Test = Xtildetest@Wtilde_mse\n",
        "  t_Est_Test = np.argmax(Y_Test,axis=1)\n",
        "  return t_Est, t_Est_Test"
      ],
      "execution_count": null,
      "outputs": []
    },
    {
      "cell_type": "markdown",
      "metadata": {
        "id": "sW_qkqfIB3tX"
      },
      "source": [
        "Observemos cómo cambia el `accuracy_score` dependiendo del tamaño de los valores de prueba. \n",
        "\n",
        "**Para Estrellas**\n",
        "\n",
        "`test_size`  | `accuracy_score`(%) \n",
        "-------------|-----------------------\n",
        "0.25         | 88.3333\n",
        "0.3          | 88.8889\n",
        "0.5          | 80.8334\n",
        "0.7          | 78.5714\n",
        "\n",
        "**Para Parkinson**\n",
        "\n",
        "`test_size`  | `accuracy_score`(%) \n",
        "-------------|-----------------------\n",
        "0.25         | 49.735\n",
        "0.3          | 50.6607\n",
        "0.5          | 48.9417\n",
        "0.7          | 51.5094\n",
        "\n",
        "\n",
        "Estos valores tienen su origen en el balanceo del dataset."
      ]
    },
    {
      "cell_type": "code",
      "metadata": {
        "colab": {
          "base_uri": "https://localhost:8080/",
          "height": 614
        },
        "id": "wnJ60HHLytRr",
        "outputId": "075f6076-f75f-4bb1-f463-d195d5c99eea"
      },
      "source": [
        "#Para Estrellas\n",
        "y_Est,y_Est_Test = Modelo_MinCuadrados(dfStars,\"Type\", X_train,X_test,y_train,y_test)\n",
        "acc = accuracy_score(y_test,y_Est)\n",
        "print('\\n Acc(%): ',acc*100)\n",
        "cMat = confusion_matrix(y_test,y_Est)\n",
        "ax = ConfusionMatrixDisplay(cMat, display_labels=dfStars['Type'].unique())\n",
        "ax.plot()\n",
        "plt.show()\n",
        "\n",
        "#Mostremos las observaciones en las que el modelo se equivoco\n",
        "print('Etiquetas:', y_test[:10].to_numpy())\n",
        "print('Predicciones:', y_Est_Test[:10])"
      ],
      "execution_count": null,
      "outputs": [
        {
          "output_type": "stream",
          "name": "stdout",
          "text": [
            "Wtilde: \n",
            " [[-1.09568055e-01  2.41788286e-02  5.60552308e-01  1.16208350e-01\n",
            "   2.93469453e-01  1.15159115e-01]\n",
            " [-7.56688790e-07 -5.07284247e-06 -3.43130215e-06  2.14638766e-05\n",
            "  -7.79213931e-06 -4.41090390e-06]\n",
            " [ 3.67517695e-07 -2.79977846e-07 -8.58356562e-08 -9.67368398e-07\n",
            "   1.20104587e-06 -2.35381660e-07]\n",
            " [ 1.20433327e-04 -6.92332694e-06  1.33499359e-04 -3.94525618e-04\n",
            "  -5.53775753e-04  7.01292012e-04]\n",
            " [ 2.65050735e-02  1.03825450e-02  1.51534338e-02 -2.76746541e-02\n",
            "  -1.91061418e-02 -5.26025643e-03]\n",
            " [ 1.45622532e-03  5.46346499e-03 -4.12210065e-02  5.86629114e-02\n",
            "  -2.19851983e-02 -2.37639693e-03]\n",
            " [ 2.41783438e-02  5.11938825e-02 -6.93162227e-02 -4.52146141e-02\n",
            "   4.05382505e-02 -1.37963991e-03]]\n",
            "\n",
            " Acc(%):  78.57142857142857\n"
          ]
        },
        {
          "output_type": "display_data",
          "data": {
            "image/png": "[encoded data removed]",
            "text/plain": [
              "<Figure size 432x288 with 2 Axes>"
            ]
          },
          "metadata": {
            "needs_background": "light"
          }
        },
        {
          "output_type": "stream",
          "name": "stdout",
          "text": [
            "Etiquetas: [0 4 0 2 1 4 2 2 4 3]\n",
            "Predicciones: [0 4 1 2 1 4 2 3 4 3]\n"
          ]
        }
      ]
    },
    {
      "cell_type": "code",
      "metadata": {
        "id": "ZRk2n3tsEqUZ",
        "colab": {
          "base_uri": "https://localhost:8080/",
          "height": 490
        },
        "outputId": "a3292b18-2c10-44f6-feab-2ca06b128188"
      },
      "source": [
        "#Para Parkinson\n",
        "t_Est, t_Est_Test= Modelo_MinCuadrados(dfPD,\"class\", X_train,X_test,y_train,y_test)\n",
        "acc = accuracy_score(y_test,t_Est)\n",
        "print('\\n Acc(%): ',acc*100)\n",
        "cMat = confusion_matrix(y_test,t_Est)\n",
        "ax = ConfusionMatrixDisplay(cMat, display_labels=dfStars['Type'].unique())\n",
        "ax.plot()\n",
        "plt.show()\n",
        "\n",
        "#Mostremos las observaciones en las que el modelo se equivoco\n",
        "print('Etiquetas:', y_test[:10].to_numpy())\n",
        "print('Predicciones:', t_Est[:10])"
      ],
      "execution_count": null,
      "outputs": [
        {
          "output_type": "stream",
          "name": "stdout",
          "text": [
            "Wtilde: \n",
            " [[ 1.26110293e+08  2.46190408e+08]\n",
            " [ 8.55500488e+03  1.74965718e+04]\n",
            " [ 7.90802125e+05  1.60907388e+06]\n",
            " ...\n",
            " [ 2.66905469e+03  5.19152734e+03]\n",
            " [-3.88878594e+04 -7.86568984e+04]\n",
            " [ 4.60928125e+03  9.37697559e+03]]\n",
            "\n",
            " Acc(%):  51.509433962264154\n"
          ]
        },
        {
          "output_type": "display_data",
          "data": {
            "image/png": "[encoded data removed]",
            "text/plain": [
              "<Figure size 432x288 with 2 Axes>"
            ]
          },
          "metadata": {
            "needs_background": "light"
          }
        },
        {
          "output_type": "stream",
          "name": "stdout",
          "text": [
            "Etiquetas: [0 1 0 1 1 1 1 1 1 1]\n",
            "Predicciones: [1 1 1 1 0 0 1 1 0 1]\n"
          ]
        }
      ]
    },
    {
      "cell_type": "markdown",
      "metadata": {
        "id": "0FG_55p_5aCa"
      },
      "source": [
        "### 2. Modelo Generativo - Gaussiano"
      ]
    },
    {
      "cell_type": "markdown",
      "metadata": {
        "id": "ukksjy-PT-1V"
      },
      "source": [
        "Con el fin de generar la matriz de Covarianza **$S$**, necesitamos los valores de $S_n$ para cada $n$, de la forma:"
      ]
    },
    {
      "cell_type": "code",
      "metadata": {
        "id": "mAJ2qjmhqDYW"
      },
      "source": [
        "def Sn_Multivariado(X,mu,N):\n",
        "  MU = np.tile(mu,(N,1))\n",
        "  S = (1/N)*(((X-MU).T)@(X-MU)) #Hago Norma Cuadratica\n",
        "  return (S)"
      ],
      "execution_count": null,
      "outputs": []
    },
    {
      "cell_type": "markdown",
      "metadata": {
        "id": "cD3j84-sV30H"
      },
      "source": [
        "Y el Modelo generativo es:"
      ]
    },
    {
      "cell_type": "code",
      "metadata": {
        "id": "iitRrK6vrl2l"
      },
      "source": [
        "def Mod_Gen(DF, columns,size):\n",
        "  val =len(DF.columns)\n",
        "  if val == 755:\n",
        "    df_mask=DF[columns]==0\n",
        "    PD_C0=DF[df_mask]\n",
        "    df_mask=DF[columns]==1\n",
        "    PD_C1=DF[df_mask]\n",
        "\n",
        "    Xtrain_PD0, Xtest_PD0, ytrain_PD0, ytest_PD0 = train_test_split(PD_C0.drop(columns=[columns]),PD_C0[columns],test_size = size, random_state = 123)\n",
        "    Xtrain_PD1, Xtest_PD1, ytrain_PD1, ytest_PD1 = train_test_split(PD_C1.drop(columns=[columns]),PD_C1[columns],test_size = size, random_state = 123)\n",
        "    \n",
        "    NP0=Xtrain_PD0.shape[0]\n",
        "    NP1=Xtrain_PD1.shape[0]\n",
        "    NPD= NP0+NP1\n",
        "    \n",
        "    #N para test\n",
        "    N0T=Xtest_PD0.shape[0]\n",
        "    N1T=Xtest_PD1.shape[0]\n",
        "    NTT=N0T+N1T\n",
        "    \n",
        "    pC0PD = NP0/NPD\n",
        "    pC1PD = NP1/NPD\n",
        "    \n",
        "    mu0PD = Xtrain_PD0.mean(axis=0)\n",
        "    mu1PD = Xtrain_PD1.mean(axis=0)\n",
        "    \n",
        "    S0PD = Sn_Multivariado(Xtrain_PD0,mu0PD,NP0)\n",
        "    S1PD = Sn_Multivariado(Xtrain_PD1,mu1PD,NP1)\n",
        "    \n",
        "    SigmaPD = pC0PD*S0PD+ pC1PD*S1PD \n",
        "    \n",
        "    #Hiperparámetros del modelo Generativo\n",
        "    invSigmaPD = np.linalg.inv(SigmaPD)\n",
        "    \n",
        "    # para la clase 0\n",
        "    w0 = invSigmaPD@mu0PD\n",
        "    w00 = -0.5*(mu0PD.T)@(invSigmaPD@mu0PD) + np.log(pC0PD)\n",
        "    # para la clase 1\n",
        "    w1 = invSigmaPD@mu1PD\n",
        "    w10 = -0.5*(mu1PD.T)@(invSigmaPD@mu1PD) + np.log(pC1PD)\n",
        "          \n",
        "    XPD = np.concatenate((Xtest_PD0,Xtest_PD1),axis = 0)\n",
        "    A0PD = np.reshape((XPD@w0  + w00),(NTT,1))\n",
        "    A1PD = np.reshape((XPD@w1  + w10),(NTT,1))\n",
        "\n",
        "    A_kPD = np.concatenate((A0PD,A1PD),axis = 1)\n",
        "\n",
        "    # Función Softmax \"Posterior p(Ck/xn)\"\n",
        "    expAkPD = np.exp(A_kPD)\n",
        "    pCk_dado_X_PD = expAkPD/np.tile(np.reshape(np.sum(expAkPD,axis=1),(NTT,1)),(1,2))\n",
        "    \n",
        "    t_Est = np.argmax(pCk_dado_X_PD,axis = 1)\n",
        "    ytest=pd.concat([ytest_PD0,ytest_PD1], axis=0)\n",
        "\n",
        "  else:\n",
        "      df_mask=DF[columns]==0\n",
        "      C0=DF[df_mask]\n",
        "      df_mask=DF[columns]==1\n",
        "      C1=DF[df_mask]\n",
        "      df_mask=DF[columns]==2\n",
        "      C2=DF[df_mask]\n",
        "      df_mask=DF[columns]==3\n",
        "      C3=DF[df_mask]\n",
        "      df_mask=DF[columns]==4\n",
        "      C4=DF[df_mask]\n",
        "      df_mask=DF[columns]==5\n",
        "      C5=DF[df_mask]\n",
        "\n",
        "      Xtrain_C0, Xtest_C0, ytrain_C0, ytest_C0 = train_test_split(C0.drop(columns=['Type']), C0['Type'], test_size = size, random_state = 123)\n",
        "      Xtrain_C1, Xtest_C1, ytrain_C1, ytest_C1 = train_test_split(C1.drop(columns=['Type']), C1['Type'], test_size = size, random_state = 123)\n",
        "      Xtrain_C2, Xtest_C2, ytrain_C2, ytest_C2 = train_test_split(C2.drop(columns=['Type']), C2['Type'], test_size = size, random_state = 123)\n",
        "      Xtrain_C3, Xtest_C3, ytrain_C3, ytest_C3 = train_test_split(C3.drop(columns=['Type']), C3['Type'], test_size = size, random_state = 123)\n",
        "      Xtrain_C4, Xtest_C4, ytrain_C4, ytest_C4 = train_test_split(C4.drop(columns=['Type']), C4['Type'], test_size = size, random_state = 123)\n",
        "      Xtrain_C5, Xtest_C5, ytrain_C5, ytest_C5 = train_test_split(C5.drop(columns=['Type']), C5['Type'], test_size = size, random_state = 123)\n",
        "  \n",
        "      #N para train\n",
        "      N0=Xtrain_C0.shape[0]\n",
        "      N1=Xtrain_C1.shape[0]\n",
        "      N2=Xtrain_C2.shape[0]\n",
        "      N3=Xtrain_C3.shape[0]\n",
        "      N4=Xtrain_C4.shape[0]\n",
        "      N5=Xtrain_C5.shape[0]\n",
        "      N=N0+N1+N2+N3+N4+N5\n",
        "           \n",
        "      #N para test\n",
        "      N0T=Xtest_C0.shape[0]\n",
        "      N1T=Xtest_C1.shape[0]\n",
        "      N2T=Xtest_C2.shape[0]\n",
        "      N3T=Xtest_C3.shape[0]\n",
        "      N4T=Xtest_C4.shape[0]\n",
        "      N5T=Xtest_C5.shape[0]\n",
        "      NTT=N0T+N1T+N2T+N3T+N4T+N5T\n",
        "      \n",
        "      pC0 = N0/N\n",
        "      pC1 = N1/N\n",
        "      pC2 = N2/N\n",
        "      pC3 = N3/N\n",
        "      pC4 = N4/N\n",
        "      pC5 = N5/N\n",
        "\n",
        "      mu0 = Xtrain_C0.mean(axis=0)\n",
        "      mu1 = Xtrain_C1.mean(axis=0)\n",
        "      mu2 = Xtrain_C2.mean(axis=0)\n",
        "      mu3 = Xtrain_C3.mean(axis=0)\n",
        "      mu4 = Xtrain_C4.mean(axis=0)\n",
        "      mu5 = Xtrain_C5.mean(axis=0)\n",
        "              \n",
        "      S0 = Sn_Multivariado(Xtrain_C0,mu0,N0)\n",
        "      S1 = Sn_Multivariado(Xtrain_C1,mu1,N1)\n",
        "      S2 = Sn_Multivariado(Xtrain_C2,mu2,N2)\n",
        "      S3 = Sn_Multivariado(Xtrain_C3,mu3,N3)\n",
        "      S4 = Sn_Multivariado(Xtrain_C4,mu5,N4)\n",
        "      S5 = Sn_Multivariado(Xtrain_C5,mu5,N5)\n",
        "      Sigma = pC0*S0+ pC1*S1 + pC2*S2 + pC3*S3 + pC4*S4 + pC5*S5\n",
        "    \n",
        "      #Ahora calcularemos los hiperparámetros del modelo Generativo\n",
        "      invSigma = np.linalg.inv(Sigma)\n",
        "\n",
        "      # para la clase 0\n",
        "      w0 = invSigma@mu0\n",
        "      w00 = -0.5*(mu0.T)@(invSigma@mu0) + np.log(pC0)\n",
        "      # para la clase 1\n",
        "      w1 = invSigma@mu1\n",
        "      w10 = -0.5*(mu1.T)@(invSigma@mu1) + np.log(pC1)\n",
        "      # para la clase 2\n",
        "      w2 = invSigma@mu2\n",
        "      w20 = -0.5*(mu2.T)@(invSigma@mu2) + np.log(pC2)\n",
        "      # para la clase 3\n",
        "      w3 = invSigma@mu3\n",
        "      w30 = -0.5*(mu3.T)@(invSigma@mu3) + np.log(pC3)\n",
        "      # para la clase 4\n",
        "      w4 = invSigma@mu4\n",
        "      w40 = -0.5*(mu4.T)@(invSigma@mu4) + np.log(pC4)\n",
        "      # para la clase 5\n",
        "      w5 = invSigma@mu5\n",
        "      w50 = -0.5*(mu5.T)@(invSigma@mu5) + np.log(pC5)\n",
        "      \n",
        "      X = np.concatenate((Xtest_C0,Xtest_C1,Xtest_C2,Xtest_C3,Xtest_C4,Xtest_C5),axis = 0)\n",
        "      Xt = np.concatenate((Xtrain_C0,Xtrain_C1,Xtrain_C2,Xtrain_C3,Xtrain_C4,Xtrain_C5),axis = 0)\n",
        "      \n",
        "      A0 = np.reshape((X@w0  + w00),(NTT,1))\n",
        "      A1 = np.reshape((X@w1  + w10),(NTT,1))\n",
        "      A2 = np.reshape((X@w2  + w20),(NTT,1))\n",
        "      A3 = np.reshape((X@w3  + w30),(NTT,1))\n",
        "      A4 = np.reshape((X@w4  + w40),(NTT,1))\n",
        "      A5 = np.reshape((X@w5  + w50),(NTT,1))\n",
        "      A_k = np.concatenate((A0,A1,A2,A3,A4,A5),axis = 1)\n",
        "      \n",
        "      # Luego pasamos las activaciones por la función Softmax \"Calculamos el posterior p(Ck/xn)\"\n",
        "      expAk = np.exp(A_k)\n",
        "      pCk_dado_X = expAk/np.tile(np.reshape(np.sum(expAk,axis=1),(NTT,1)),(1,6))\n",
        "      ytest=pd.concat([ytest_C0,ytest_C1,ytest_C2,ytest_C3,ytest_C4,ytest_C5], axis=0)\n",
        "      t_Est = np.argmax(pCk_dado_X,axis = 1)\n",
        "\n",
        "  return(t_Est, ytest)"
      ],
      "execution_count": null,
      "outputs": []
    },
    {
      "cell_type": "markdown",
      "metadata": {
        "id": "JZgfkB_eUkxC"
      },
      "source": [
        "Observemos cómo cambia el `accuracy_score` dependiendo del tamaño de los valores de prueba. \n",
        "\n",
        "**Para Estrellas**\n",
        "\n",
        "`test_size`  | `accuracy_score`(%) \n",
        "-------------|-----------------------\n",
        "0.25         | 98.3333\n",
        "0.3          | 98.61111\n",
        "0.5          | 98.6111\n",
        "0.7          | 98.6111\n",
        "\n",
        "**Para Parkinson**\n",
        "\n",
        "`test_size`  | `accuracy_score`(%) \n",
        "-------------|-----------------------\n",
        "0.25         | 25.4385\n",
        "0.3          | 25.4385\n",
        "0.5          | 25.4716\n",
        "0.7          | 25.4716\n"
      ]
    },
    {
      "cell_type": "code",
      "metadata": {
        "id": "Pse420JWomn7"
      },
      "source": [
        "#Para Estrellas\n",
        "t_Est,ytest = Mod_Gen(dfStars,\"Type\",testSize)\n",
        "acc = accuracy_score(ytest,t_Est)\n",
        "print('Accuracy: ',acc*100.)\n",
        "cMat = confusion_matrix(ytest,t_Est)\n",
        "ax = ConfusionMatrixDisplay(cMat, display_labels=dfStars['Type'].unique())\n",
        "ax.plot()\n",
        "plt.show()\n",
        "\n",
        "#Mostremos las observaciones en las que el modelo se equivoco\n",
        "print('Etiquetas:', y_test[:10].to_numpy())\n",
        "print('Predicciones:', t_Est[:10])"
      ],
      "execution_count": null,
      "outputs": []
    },
    {
      "cell_type": "code",
      "metadata": {
        "id": "hBfpyRPIFFBT"
      },
      "source": [
        "#Para Parkinson\n",
        "t_Est,ytest = Mod_Gen(dfPD,\"class\",size)\n",
        "acc = accuracy_score(ytest,t_Est)\n",
        "print('Accuracy: ',acc*100.)\n",
        "cMat = confusion_matrix(ytest,t_Est)\n",
        "ax = ConfusionMatrixDisplay(cMat, display_labels=dfPD['class'].unique())\n",
        "ax.plot()\n",
        "plt.show()\n",
        "\n",
        "#Mostremos las observaciones en las que el modelo se equivoco\n",
        "print('Etiquetas:', y_test[:10].to_numpy())\n",
        "print('Predicciones:', t_Est[:10])"
      ],
      "execution_count": null,
      "outputs": []
    },
    {
      "cell_type": "markdown",
      "metadata": {
        "id": "Wk2K7tMK5k_M"
      },
      "source": [
        "### 3. Modelo Discriminativo - Regresión Logística"
      ]
    },
    {
      "cell_type": "markdown",
      "metadata": {
        "id": "u28jMgOPibR0"
      },
      "source": [
        "Estudiemos cómo cambia el `accuracy_score` dependiendo del tamaño de los valores de prueba. \n",
        "\n",
        "**Para Estrellas**\n",
        "\n",
        "`test_size`  | `accuracy_score`(%) \n",
        "-------------|-----------------------\n",
        "0.25         | 100 \n",
        "0.3          | 100\n",
        "0.5          | 97.5\n",
        "0.7          | 94.04761904761905\n",
        "\n",
        "**Para Parkinson**\n",
        "\n",
        "`test_size`  | `accuracy_score`(%) \n",
        "-------------|-----------------------\n",
        "0.25         | 75.66137566137566 \n",
        "0.3          | 75.33039647577093\n",
        "0.5          | 77.5132275132275\n",
        "0.7          | 76.79245283018868\n",
        "\n",
        "\n",
        "Continuemos comparando los valores del `accuracy_score` con los parámetros del Modelo. \n",
        "\n",
        "**Para Estrellas**\n",
        "Para esto se dejará un `test_size` de 0.3.\n",
        "\n",
        "* `Regularización C = 1e6`\n",
        "\n",
        "Penalidad   | `solver`     | `accuracy_score`(%)\n",
        "------------|--------------|------------------ \n",
        "l1          | liblinear    | 100.0\n",
        "l1          | saga         | 55.5556\n",
        "l2          | liblinear    | 95.8334\n",
        "l2          | newton-cg    | 100.0\n",
        "l2          | saga         | 55.5556\n",
        "\n",
        "* Con `Regularización C = 100`\n",
        "\n",
        "Penalidad   | `solver`     | `accuracy_score`(%)\n",
        "------------|--------------|------------------ \n",
        "l1          | liblinear    | 100.0\n",
        "l1          | saga         | 55.5556\n",
        "l2          | liblinear    | 95.8334\n",
        "l2          | newton-cg    | 100.0\n",
        "l2          | saga         | 55.5556\n",
        "\n",
        "* Con `Regularización C = 1`\n",
        "\n",
        "Penalidad   | `solver`     | `accuracy_score`(%)\n",
        "------------|--------------|------------------ \n",
        "l1          | liblinear    | 100.0\n",
        "l1          | saga         | 55.5556\n",
        "l2          | liblinear    | 95.8334\n",
        "l2          | newton-cg    | 100.0\n",
        "l2          | saga         | 55.5556\n",
        "\n",
        "\n",
        "* Con `Regularización C = 1e-6`\n",
        "\n",
        "Penalidad   | `solver`     | `accuracy_score`(%)\n",
        "------------|--------------|------------------ \n",
        "l1          | liblinear    | 13.8889\n",
        "l1          | saga         | 15.2779\n",
        "l2          | liblinear    | 61.1114\n",
        "l2          | newton-cg    | 81.9444\n",
        "l2          | saga         | 55.5556\n",
        "\n",
        "\n",
        "**Para Parkinson**\n",
        "Para esto se dejará un `test_size` de 0.7.\n",
        "\n",
        "* `Regularización C = 1e6`\n",
        "\n",
        "Penalidad   | `solver`     | `accuracy_score`(%)\n",
        "------------|--------------|------------------ \n",
        "l1          | liblinear    | 79.4339\n",
        "l1          | saga         | 74.9056\n",
        "l2          | liblinear    | 77.1698\n",
        "l2          | newton-cg    | 75.2830\n",
        "l2          | saga         | 74.9056\n",
        "\n",
        "* `Regularización C = 100`\n",
        "\n",
        "Penalidad   | `solver`     | `accuracy_score`(%)\n",
        "------------|--------------|------------------ \n",
        "l1          | liblinear    | 79.4339\n",
        "l1          | saga         | 74.9056\n",
        "l2          | liblinear    | 77.3584\n",
        "l2          | newton-cg    | 73.7735\n",
        "l2          | saga         | 74.9056\n",
        "\n",
        "* `Regularización C = 1`\n",
        "\n",
        "Penalidad   | `solver`     | `accuracy_score`(%)\n",
        "------------|--------------|------------------ \n",
        "l1          | liblinear    | 75.8490\n",
        "l1          | saga         | 74.9056 \n",
        "l2          | liblinear    | 79.2452\n",
        "l2          | newton-cg    | 73.7735\n",
        "l2          | saga         | 74.9056\n",
        "\n",
        "* `Regularización C = 1e-6`\n",
        "\n",
        "Penalidad   | `solver`     | `accuracy_score`(%)\n",
        "------------|--------------|------------------ \n",
        "l1          | liblinear    | 78.113\n",
        "l1          | saga         | 74.9056 \n",
        "l2          | liblinear    | 77.1698\n",
        "l2          | newton-cg    | 75.0943\n",
        "l2          | saga         | 74.9056\n"
      ]
    },
    {
      "cell_type": "code",
      "metadata": {
        "id": "tR9-hn9aDIR6"
      },
      "source": [
        "from sklearn.impute import SimpleImputer\n",
        "imputer = SimpleImputer(missing_values = np.nan, strategy = 'mean',verbose=0)\n",
        "imputer = imputer.fit(X.iloc[:, :-1].values)\n",
        "X = imputer.transform(X.iloc[:, :-1].values)"
      ],
      "execution_count": null,
      "outputs": []
    },
    {
      "cell_type": "code",
      "metadata": {
        "colab": {
          "base_uri": "https://localhost:8080/",
          "height": 352
        },
        "id": "RH3Emfi9z7g8",
        "outputId": "b1710fcb-52c3-465d-9148-582d6d629f53"
      },
      "source": [
        "#Estrellas\n",
        "model_LR = LogisticRegression(penalty='l2',C =1e-6,max_iter=5000,solver='saga')\n",
        "model_LR.fit(Xtrain,ytrain)\n",
        "\n",
        "yEst = model_LR.predict(Xtest)\n",
        "\n",
        "from sklearn.metrics import accuracy_score,confusion_matrix,ConfusionMatrixDisplay\n",
        "print('ACC', accuracy_score(ytest,yEst)*100.)\n",
        "cmat = confusion_matrix(ytest,yEst)\n",
        "ax = ConfusionMatrixDisplay(cmat,display_labels=dfStars['Type'].unique())\n",
        "ax.plot()\n",
        "plt.show()"
      ],
      "execution_count": null,
      "outputs": [
        {
          "output_type": "stream",
          "name": "stderr",
          "text": [
            "/usr/local/lib/python3.7/dist-packages/sklearn/linear_model/_sag.py:330: ConvergenceWarning: The max_iter was reached which means the coef_ did not converge\n",
            "  \"the coef_ did not converge\", ConvergenceWarning)\n"
          ]
        },
        {
          "output_type": "stream",
          "name": "stdout",
          "text": [
            "ACC 55.55555555555556\n"
          ]
        },
        {
          "output_type": "display_data",
          "data": {
            "image/png": "[encoded data removed]",
            "text/plain": [
              "<Figure size 432x288 with 2 Axes>"
            ]
          },
          "metadata": {
            "needs_background": "light"
          }
        }
      ]
    },
    {
      "cell_type": "code",
      "metadata": {
        "id": "nK8cIMv6qHEj"
      },
      "source": [
        "##Parkinson\n",
        "## Sin balanceo\n",
        "model_LR = LogisticRegression(penalty = 'l2', C=1e-6, max_iter=700, solver='newton-cg')\n",
        "model_LR.fit(Xtrain, ytrain) \n",
        "\n",
        "\n",
        "yEst = model_LR.predict(Xtest)\n",
        "print('ACC', accuracy_score(ytest,yEst)*100.)\n",
        "cmat = confusion_matrix(ytest,yEst)\n",
        "ax = ConfusionMatrixDisplay(cmat,display_labels=['Negative','Positive'])\n",
        "ax.plot()\n",
        "plt.show()"
      ],
      "execution_count": null,
      "outputs": []
    },
    {
      "cell_type": "markdown",
      "metadata": {
        "id": "uyfT9Asx_KpY"
      },
      "source": [
        "### Accuracy y Balanceo de DataSets"
      ]
    },
    {
      "cell_type": "markdown",
      "metadata": {
        "id": "uOdD9xxQhxn2"
      },
      "source": [
        "Cabe resaltar que, para el DataSet `dfStars` no es necesario realizar el balanceo del dataset, debido a que los target t = dfStars['Type'] tienen un valor de 40 para cada uno . Por tanto, ya estan balanceados.\n",
        "\n",
        "```\n",
        "X = dfStars.drop(columns=['Type'])\n",
        "t = dfStars['Type']\n",
        "\n",
        "print(t.unique())\n",
        "print(t.value_counts())\n",
        "\n",
        "X = X.values\n",
        "t = t.values\n",
        "```"
      ]
    },
    {
      "cell_type": "markdown",
      "metadata": {
        "id": "rEQliwv8_--A"
      },
      "source": [
        "Entonces para  `dfDP` parkinson:\n",
        "\n"
      ]
    },
    {
      "cell_type": "code",
      "metadata": {
        "id": "LWEFRbsfG4lE"
      },
      "source": [
        "X = dfPD.drop(columns=['class'])\n",
        "y = dfPD['class']\n",
        "print(y.unique())\n",
        "print(y.value_counts())\n",
        "\n",
        "X = X.values\n",
        "y = y.values\n",
        "\n",
        "# Seleccionemos los X por clase\n",
        "Xsanos = X[y == 0]\n",
        "ysanos = np.zeros(len(Xsanos))\n",
        "Xpd = X[y == 1]\n",
        "ypd = np.ones(len(Xpd))"
      ],
      "execution_count": null,
      "outputs": []
    },
    {
      "cell_type": "code",
      "metadata": {
        "id": "IdGhr4ZPYERu"
      },
      "source": [
        "nreps = 100\n",
        "accReps = []\n",
        "for n in range(0,nreps):\n",
        "  # Luego hacemos una selección aleatoria de un \n",
        "  # subconjunto de la clase que mas observaciones presenta\n",
        "  idx = np.random.permutation(len(ypd))\n",
        "  idx_set = idx[:len(ysanos)]\n",
        "\n",
        "  Xpd_set = Xpd[idx_set]\n",
        "  ypd_set = ypd[idx_set]\n",
        "\n",
        "  # Rearmo mi dataset balanceado\n",
        "  X = np.concatenate((Xsanos,Xpd_set),axis=0)\n",
        "  y = np.concatenate((ysanos,ypd_set),axis=0)\n",
        "\n",
        "  Xtrain, Xtest, ytrain, ytest = train_test_split(X,y,test_size = 0.25, random_state = 123)\n",
        "  model_LR = LogisticRegression(penalty='l2',C = 1,max_iter=7000,solver='lbfgs')\n",
        "  model_LR.fit(Xtrain,ytrain)\n",
        "\n",
        "  yEst = model_LR.predict(Xtest)\n",
        "  acc =accuracy_score(ytest,yEst)*100.\n",
        "  accReps.append(acc)\n",
        "\n",
        "\n",
        "print('ACC (mean +/- std)',np.mean(accReps),'+/-',np.std(accReps))\n",
        "print('ACC (%)',acc)\n",
        "cmat = confusion_matrix(ytest,yEst)\n",
        "ax = ConfusionMatrixDisplay(cmat,display_labels=dfPD['class'].unique())\n",
        "ax.plot()\n",
        "plt.show()"
      ],
      "execution_count": null,
      "outputs": []
    },
    {
      "cell_type": "code",
      "metadata": {
        "id": "gQGbyA3LG-Uo"
      },
      "source": [
        "plt.plot(accReps)"
      ],
      "execution_count": null,
      "outputs": []
    },
    {
      "cell_type": "markdown",
      "metadata": {
        "id": "eZXgAqtPREYa"
      },
      "source": [
        "Con respecto al `accuracy_core` y el balanceo del DataSet:\n",
        "\n",
        "![image.png](data:image/png;base64,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)\n",
        "\n"
      ]
    },
    {
      "cell_type": "markdown",
      "metadata": {
        "id": "wZpasQTmSRY8"
      },
      "source": [
        "Y respecto a los demás parámetros del modelo:\n",
        "![image.png](data:image/png;base64,iVBORw0KGgoAAAANSUhEUgAAAyEAAADaCAYAAACxU020AAAgAElEQVR4Ae1di7GjMAxMXRREPamGZiiGmzXZi6JnG4mvSfRm7kxAluTVYltg4DHFXyAQCAQCgUAgEAgEAoFAIBAIBAInIvA40VaYCgQCgUAgEAgEAoFAIBAIBAKBQGCKJCRIEAgEAoFAIBAIBAKBQCAQCAQCpyIQScipcIexQCAQCAQCgUAgEAgEAoFAIBCIJCQ4EAgEAoFAIBAIBAKBQCAQCAQCpyIQScipcIexQOB7EHg8HlP8CwyCA8GB4EBwIDgQHNAcsMx2IgmxoBQygUAg8AcB3eHE7xiEggPBgeBAcCA4EBwAByx/NimLppAJBAKBn0KAA81PNToaGwgEAoFAIBAIBAJFBDxzg0hCijDGgUAgEKgh4OloanriWCAQCAQCgUAgEAh8BwKeuUEkId8R82hFIHA6Ap6O5nTnwmAgEAgEAoFAIBAInI6AZ24QScjp4QmDgcB3IODpaL6jxdGKQCAQCAQCgUAgEKgh4JkbRBJSQzKOBQKBQBEBT0dTVBIHAoFAIBAIBAKBQOBrEPDMDSIJ+ZqwR0MCgXMR8HQ053oW1gKBQCAQCAQCgUDgCgQ8c4NIQq6IUNgMBL4AAU9H8wXNjSYEAoFAIBAIBAKBwAICnrlBJCELYMbhQCAQyCPg6WjyGmJvIBAIBAKBwF0Q6Idp6tP3H4a7uBx+XoCAZ24QScgFAQqTgcA3IODpaL6hvdGGQOAOCDz6YRqf3R9Xn+M0PR7dhPO27zD0lyeS3XOchj6mB39A/PEdd0pCwPeu6xPfu8djGp/95ujhvOC4J8vc+bbZ2I0VEBtLE6KXsaAUMoFAIPAHAU9H86dy7AgEAoHdEShNEsdpnpCNwzPZXEoyIP949NM0bJ+47d7IExUiTeuAwzjjdqLp/6Za8OG/MzfZQALy7JCIg8nzX4eTYyOfl84b2vr10jM3iCTk19kS7Q8EViLg6WhWmohqgUAg4EDg0T2Ld0HmSdmsDBPbZ1dPMDDheqY7Ju+JnMOVrxBtIQFowYe7BbPrnn8Sxzfn1/M5khAbEzxzg0hCbJiGVCAQCCgEPB2NqvrVPzHE9c9h6rp56QtwwvIXXoXONR7yXCpDeezLLYlZksUFP+jAEgRewcUAjCvbSbda0y2X6WDSCf9x1ZD+yKUGR7UNk2f4hn/SHpYWcX8OixyWet+IZRn9W3/XPabn8Jx6XOHOLElawpf63zjNfsPPof+8+gpZD76Q7wcs+XhzB3HM6aUfLNPyk0f3P+bcjzL52vX/OWiZTJEzW68eSz+wvSe+Ettx6F+8neMxJ11ohf8PeElOkoMsJUep3RM3CyfX+EBfLKXFB+qR56HsV3hcliXccvU8mEkbtW1EPHduz+fA3+Skpksfs5w3us4v/uZ5Yml7JCEWlEImEAgE/iDg6Wj+VP7yHRjg5VKAIa3Hzy9vwYRfTzI5OOuJt1UWA3FuGUlpgIa3aSlP90jrqDGhYwt6XFUUk/Uj2pYmXIXlP5gAaRySc8b/MCka0jMSKSip1nMYpx4TdtEuHHDhKyb1dCXpTctA/k5+LfhCJk2eZ5CTWnjdp7sSfxMc2k2+L9y5SBx8rZFfeiaEehN2Oz4bchS+8POdrM1nHngz38lha/xl6TzSmrxx83DS6oP2aem3xwfqsviSuwvxjjs1zf3NWq6/tfzdQmKaO7chiTZvSaqRhHDcYzm34e/5/tez39lDbCwtjiTEglLIBAKBwB8EPB3Nn8o/uAMDmL6CislLaYKtj+nfEkJ9rDRZwP7cVULogo705pvRP6BubRvsQ4de/lO7ui/bX9u2Tjw0hlKnPoYJro4l5dGOXEyX8E3Jhkr4qBMl9NYmULVkDbZ5vubKUlv2mMizDRpD7kepj3nxTRNqlSzVJqPSdm27dB7JOmviZuUk7Fh8kP5Ytz0+UOcaX3IJyBrM6MNSWYv7mjYv2cMFo/muG1oVf0CAfYwFjUhCLCiFTCAQCPxBwNPR/Kn85Ttw5fohlmPhKi1+68lebbKlIfLIliYL2F9LQixXjo9oG9qKIRyTBIkR2pyb0Gtsar+h93M5Vjc9M8umPPjmrvbSB0yC5kkJ98wlJto1fFFPLsPi+SXLGhbArnac3kg80hKZysO678SQtdeXR+Kbm1zWuG5tRek8kvXXxE3GAPHF0s0cJ2HH4oP0x7rt8YE6vb7kEhDoWoMZfVgqofuoOyEl2zn+lWR/YT/7LEtbIwmxoBQygUAg8AcBT0fzp/IX78DELT0Dou4odM+/V889EzOPbGmygP1bkpCj2kY6YKI+f4dgTBOVrvCMA+XXlmmiopZNefA9KgkpTZ4s7YT/liQEMZyXp82TwZpN6KwlTha/KHMkvrlJYI3r9GmpLJ1Hsl5t0ivllrZznEQdiw9Luq3HSz6wvseXUgICXXthRr9kWYp7SroOetMZuF27Syn9+4Vtz9wgkpBfYES0MRA4AAFPR3OA+WZVliaomPzJq/xowNLVcdlIj2xpslAb/C36j2ob24mJAiaUwMk6qWZdb6knrpb200ZtQp0m+WppEOpZ9GufaM9Swq5ezparp2OIySJfYKDl4Y8lsdH1cr8t7Wc9L7453EqTUdqwlKXzSNfN2dcylt85PVYfLPotMjkfWM/qSy0Boa6aHcqsLXNJAfq+I5ZNHZncrG3/1fU8c4NIQq6OVtgPBG6KgKejuWkTV7k9T57xEPH8hweCuRxIJyGcdOsH08dxTA9J9+JqvUcWljHI84o36vKtRKUvHlsmiUe1jVihhB9YJrTHXRDoQnvnN5MBhfkP67g1Dh5802QsPZj++ZrbpFfEjPZQWvDFRAntHtKH1d7+4jl1xFPzR+pn3VJCQVnrnRC0cc9vhRyJb25CC/9Ld/2IxVL532fx8Ue8fOCB2Mt9jrh5OAn/rD4stUUe9/rAupYkpJSA6MSAfF3DdfpTKqE79Z2vu9HAMCXfhaWHkOdSyNIdDWCGfml+aQc0ThPPy70S9VJ77rbfMzeIJORu0Q1/A4FGEPB0NI24fIobacBTr4TFJBiTP2Cml7fM8u9X4kIGr5HVgzOc98jKtyElu303DSN8mF/Vy8EWkwPGUpd6cD2ybQwObKQEKnM3gTLWMk38+8ecgIlndOQERery4PuWrb+i14MvfMHEhkkr4wF/a694ZhuWEpWkXzwjU3smxHpnhbYt5Rsz8QriRa6X8ZWTR2BFviLuxA4luW7xUcvo86j0um1r3LychD9WH7Tvpd8eH9hvSTzltk7GOJmXMtzWcbBiVmpHbf/MgZln7+QhX4NtJH/yUnMc+BV2tAl6eaGnVOcX9/+Pt6HxkYQYQAqRQCAQ+IuAp6P5Wzv2BAJ5BHiFdOmKfr72b+/FxEvf4VmDSEoEC69MXqMv6gQCLSOA5D0l5CNeRx5/WxHwzA0iCdmKdtQPBH4UAU9H86MQRbNXIPC+Ar+iclRJz9LIq9NrIEEMlq4Kr9EbdQKB1hDg3bSt50xr7brSH8/cIJKQKyMVtgOBGyPg6Whu3Mxw/QQEuByCnEIZVyZPAD5MBAI/jsBedw9/HMaP5rMf/9hZ+BFJSAGY2B0IBAJ1BDwdTV1THA0EAoFAIBAIBAKBb0DAMzeIJOQbIh5tCAQuQMDT0VzgXpj8MgS4bIK8q5V7PBfxZfBFc74UgTgvvjSwN24W+2ZLEyIJsaAUMoFAIPAHAU9H86dy7AgEAoFAIBAIBAKBr0PAMzeIJOTrwh8NCgTOQcDT0ZzjUVgJBAKBQCAQCAQCgSsR8MwNIgnZECkCHeX7Pe6BRWARHAgOBAeCA8GB4EBw4Lc5YJleRxJiQakgEyfYb59gEf+If3AgOBAcCA4EB4IDwYG/HChMnT92RxLyAYfvB0nnqxXSgcB3IBD8bzeOEZt2Y9OyZ8GblqNzrW/BjWvxv5N1D1ciCdkQWQ/QG8xE1UCgSQSC/02GJTkVsWk3Ni17FrxpOTrX+hbcuBb/O1n3cCWSkA2R9QC9wUxUDQSaRCD432RYklMRm3Zj07JnwZuWo3Otb8GNa/G/k3UPVyIJ2RBZD9AbzETVQKBJBIL/TYYlORWxaTc2LXsWvGk5Otf6Fty4Fv87WfdwJZKQDZH1AL3BTFQNBJpEIPjfZFiSUxGbdmPTsmfBm5ajc61vwY1r8b+TdQ9XIgnZEFkP0BvMRNVAoEkEgv9NhiU5FbFpNzYtexa8aTk61/oW3LgW/ztZ93AlkpANkfUAvcFMVA0EmkQg+N9kWJJTEZt2Y9OyZ8GblqNzrW/BjWvxv5N1D1ciCdkQWQ/QG8xEVQcC/TBN/QO0Hhy1rhP1+vsc0b5umsbr23cU/x/9MA29vWsaxml6dP1Ef/ouj49FrnuO//VQny6tvlnsgXmQ6/rnf7td95jGod9ESvq8ScmXV/by7MvhSM37Jd7U4u85dy19zzdwp0Vu1GKYw3zPuO45Vmz1de/xI+ePZ5+HK/aR3uPBj8h6gP5mSNAREIsOCcD4vKy53kn9ZY6+DHv8RQLSpQTkOnwlXoy53Ld1mx27eaI/TdPj8U5A6JNORJGyWeRon3pypcU3q72SHOxOGxIR+r01Ht9an3G2xPJbMci161d4U4t/6Zxc26fkcL7jvta4UYthDt+940r7xCVXru1ftvoKX7aMHzn8PPuIhaVOJCEWlAoyHqALKj52Y5L5eHT/J/TUj4n90HfTNI0f8q39wInTPfpLk5DWMNnLn3S1vDFsyc892ghmdyKZtXbeHAiG53x+JD3POSke077ZO4+cnmysaZ/VHhN4eX7P/UA/PTt0z+vO+T1js6b9rdZZy7NW27O3X9/OG0v8reeuVW7vGF2lrxVuWGKYw8gaL4/c2rGCc71SomD14ajxI4efZ5+HK5GEeJBVsh6gVdXqz657/pnI98P4SkSqVS89GEnIpfCfbnwv/vOqD5Lt54C7Gr1pORYGo0f3/DNZ1/v1bwKV24/Of+3AUtOLY9oe270l2aBNXe4VG633zr+Jt5dnd26z1/dv5o0l/vocJX56v/5dkuP+byhb4IYlhjmsrfGyysHGlrGiloRYfSAWR4wfOQw9+zxciSTEg6yS9QCtqlZ/5pIQEC53lwHJibx7Urtrkogv1s4/+256jnN91MMyKiwPQrv4G46S7Nhfm6CVfGRjcXL1z2Hquvfdnj6tf/+7vIgnKWziJEPd+Ur5XFde5YZ+XhHQvtO2LDFxhZz+J9sMeY+/1I/2yXigfdinr+x7/H23/e2zvHIO2xIvPE8g7yo88YzEAc/IED+2fW0J3gw9ODD+55rGK6ebvMzJAl9y1SoHG1sGFvpotcdzrXQ1jPrWlHvFZo3tVuus5Vmr7TnCr2/mjSX+1nPXKndEjK7S2QI3LDHM4WONl1UONraMFRyvc32/1Ycjx48chp59Hq5EEuJBVsl6gFZVqz9LSUiP5ThiMgkSpgnmiGnq/DdPnMd5v1jKAdk0KRMPNCOBQUKQHnQWenES5BIe7Nc+0C7KUj0pM7v69jc9KIZ2Fda/J7+7x9R1/f+HdVMbcbdI+EwbFh9y+GLSPk/sqWkuPf6+dbzbxyQxN1GGhSV/0/HU9s9E7TmMU3oAW2GABOudiL6uvvfD627BZ9u2/jqC/2iv9U4IO3KdkKJdGCCYVFrlWI/typXUWcPOag/chr4Ryb9IXuPB9Bq6+xzz8Gwfi/fQQs7fw9v1Xpbibz13rXLrPWyvZmvcKMUwh5w1XlY52MAYQ0xyZW2soJ3cvIfHlsa1I8ePHIaefcTDUieSEAtKBRkP0AUV2d16koyJMCa4kpS1iTiU4gQhwSGrddJwLpvHyX1UEkK7soQPsm3yWC55ksf1dsl3LSd/v5MHube8nfMXfpYSjdqxJX9xRb+EDfzQNpGE6H2ggk40y62zHzmC/3ceWIicdRBB/DBQPcSdQWKKshR32qmV1FOT+eVjHp79Ek6/wptS/K3nrlXum7jTGjdKMcxhbo2XVQ420H8Tk1wpkxD6mpPjPi6rsvpw5PiRw9Czj22y1IkkxIJSQcYDdEFFdrdeLpSulg7qSnjhIXb6hJKTUZC6NAnNHcMJc1QS0uPEFZMuTsJKEy5M4OeTMwvVn50l3/8IvnYsJSBWf2vJQsk29i/5W0oeURexm5davS2AO0w+uRc2anewKOctyTVvvZo8fL36TgiXcdX8xLHcIAQeewYRYIgle/KVy7x7ZvUj5+cRscnZues+D8/u2sY1fv8Kb0rxt567Vrk1MWi1TmvcKMUwh581XlY52ED/b+2j6SsxzJVrkhDoOWL8yGHo2cf2WepEEmJBqSDjAbqgIrtbTjzTXYzMUiGcLKXEQiutyeaO4YQ5IglJJy2e7xBLwuBr9yxf7T8yCVlKQDz+RhKiWbfuNztrJtA1LZTNJbC5Z0KW5GYu2geWUhJi9QvcllfLZFuhu3RMypW2j+qbSvbutp8xsvDsbm3b4u+v8KYUf+5f6iusclti0Vrd1rjBGFjOYcruGdc0P8CztGpJtCVuTHb0BUPUtfp65PhhaUNNxsOVSEJqSC4c8wC9oOrjsExCeEAvx8L+3FVvystyr+VYuYRF2sHJk0teKJNrF47hZM51Djh2VBKylIAkvzJvKSv56/UTevC3hFktuQFuugPOcQI2vvFOCHiN9vIK0gvSP2+hssqh/paBpWS/tL82EMGPSEKI3P4lB3p9/uxv6V4ajxrTWkOhFH9rX2GVa63dW/xpjRulGObaaI2XVQ42towVtb7f6kNNx9bxI4ehZ5+HK5GEeJBVsh6gVdXqz9xkncSUmTNIiI/XDU88sA6J+Q/PkGByJif2mCRbH0yHFtSfv73wfksU3vpUu/2ITqGWhGBCLR/+Tt++eH0pWvrKdqD0Tu6XfIDOUgIC/yS+Hn8ZH/3WqnEck73cQ+TwZcnfdFw8lE9ssGQnp/OXkhBggRjhPPz4Tshrn+SUVW7LwMLYWP0iZ5BsjGK5JZdj6eRK6l/aPqpvWrJ7l+M4r6zL/u7Spj38/BXe1OJv7SuscnvEpQUdrXGjFsMcXtZ4WeW2jBW1BAK+W3w4cvzI4efZ5+FKJCEeZJWsB2hVNfuTxKRefSUUc2Qck1fv5ofWP185i8mpnNTQWNKfeUVvbllXemuVkh3S63znr1Nzso4Tkf7mSjkRxEnTvZIOyM5vAXqmKwr4LZ/94EmY0ynbj7Z5fNAYa/1sF/R6/H3Lf76iF23USaLH30+9tlf0ok3EiJxhO2X7oHvL33+dW5SourWBhW2RbaA8fWGpk2Wr3FJsoF/rVk1IP632anyU7czZqO0jDjWZXz7G+PA8+WUsZNt/hTe1+PMYsWCpz3urnMT3ztvEoZU2EP/cOdz6WMF+v9THs23EnKXmIPXwuCxLus+IH/2w2IokxIJSQcYDdEHF5btB4jkJwZQ7/gIBOwJH8J+dr3Vggbc6YdYP6rFFFrm9khCvX3gFNfGc/f98EQXbYC2pyyr/a3I1nv0aFrK9v8Kbpfhb+grgZpWTGN91uzVu1GKYS0I88bLEdc+xIscJiw9s097jR84fzz4PVyIJ8SCrZD1Aq6pN/Ey389ISqaBBEwG5mRNn83++MzWkj2reDKrT3T07Nqc3MAwegkDw5hBYv0LpnbgRY8W1lPNwJWafG2LlAXqDmd2q8soB/UYpn9HYzVAo+gkEyKOzGou7ds8eX3+Pu3ZLmJ8dmyV/4vg9EAje3CNOV3h5J27EWHEFQ942PVyJJOSNm3vLA7RbeVQIBBpHIPjfboAiNu3GpmXPgjctR+da34Ib1+J/J+serkQSsiGyHqA3mImqgUCTCAT/mwxLcipi025sWvYseNNydK71LbhxLf53su7hSiQhGyLrAXqDmagaCDSJQPC/ybAkpyI27camZc+CNy1H51rfghvX4n8n6x6uRBKyIbIeoDeYiaqBQJMIBP+bDEtyKmLTbmxa9ix403J0rvUtuHEt/ney7uFKNQmhoijf32cILAKL4EBwIDgQHAgOBAeCA8GB4ECZA5bEKZKQRxnAIFdgExwIDgQHggPBgeBAcCA4EBzwcWC3JMSi6BdlSMhfbHu0ORAI/rfLgYhNu7Fp2bPgTcvRuda34Ma1+N/Juocrpjshd2r8mb56gD7Tr7AVCJyBQPD/DJTX2YjYrMPt12sFb36dAeX2BzfK2MSRTwQ8XIkk5BM71y8P0C7FIRwI3ACB4H+7QYrYtBublj0L3rQcnWt9C25ci/+drHu4EknIhsh6gN5gJqoGAk0iEPxvMizJqYhNu7Fp2bPgTcvRuda34Ma1+N/JuocrkYRsiKwH6A1momog0CQCwf8mw5Kciti0G5uWPQvetByda30LblyL/52se7gSSciGyHqA3mAmqgYCTSIQ/G8yLMmpiE27sWnZs+BNy9G51rfgxrX438m6hyvNJiHjNE2P7jk9O7g4NIm/B+gmGxBOBQIbEDib/49+mGhTluOzK7YCdYa+2s191B1G9Dv9fzt9103TWO9/cPTx6BfteH35cMz5g/g4qzUhHnG+Lgx3401w5Tyu3I0bRCY4QiTOKz1cqY7OHkV7N48De/+IJGRvbLfqw0St659Th9iMz63qov5NETizf+BFCdqUZSkJ6Z5jSiasSQj7HKkb20t9EAe5mh2vL1spwTZs1XN2/Yjz2Yh/2rsTb4Irn7E7+teduEEsgiNE4tzSw5VmkxBA9n/gTlc6Qae2/jxAt+X57E1p0lWaTKXko+unZ99NwzhM3aOPJKTFwJ7k05n8f+IOxaObpqFfbB16ik7cNSnxWSvS/U3S85zvviwlOsAiZ2etL9o37+8zY+P1rSYfca6hc/yxO/EmuHI8H6SFO3GDfgdHiMS5pYcrzSYhGLx7XG0XSyNw5b3ruo9/abnERcu1PECfSwG/NVzNtUzwqBkJTCQhROM3yzP5D3pa7rwxsYbsc8CyquVlUoge+pv38k/8mv9K+3GUA9xQsLPWF9reUp4Zmy1+6roRZ43Iub/vxJvgSnBjCYHgyBJCxxz39CPNJiFpktv1HwmHTkDwO5KQfUj0rUnI+Fo6xpOi6zA5fU497uKI5DUlvc8h8Y2yffeYxiG/3CxNQEWCjLtDzxHLf7qPybJX7z7RPEcLcTrDGu5SYFlUPzwTxrCN+OjlgOg3hh4xG1N0rUkIE4bc3QycG3pJlpSX2xKLtb5IHWu3z4zNWh9z9SLOOVTO23cn3gRXzuMFLN2JG0QmOEIkzi09XGk2CTkXsnXWPECvs3BerW9NQnB1e1DL+Z4DJrR4mBnTxPcfEpb5mvi8Lz2kjGRFLQHC1ZU0KRUPLPfDmBKYLXrfntxj60z+g5+0p0sdH6JXSg54XJa8q5FbdoWBTN+FgT/zSzNsyY7HF+nX2m1itLb+VfUizlchP9u9E2+CK+dy5U7cIDLBESJxbunhyq2SkBGzxHmmeC6iBWseoAsqmtmNk7U0mcs5iUnVXsuxah0FMM5NDHM+5fYhCfG0S+vABFTaR57SQWfmgXxeddHJjdaJ31pvTqb1fWfxH5gjjkgE5J0pJH7wgcmAxssz8fckIfoWv8WORUb7v+X3WbHZ4qOuG3HWiJz/+y68Ca4EN5YQCI4sIXTccU8/0nwSMj8MjSUYj/QPV6CHaX4oenwuP6R6HMz3vD1ZwuPKJKTk0x770RHhTV7kD5bwYemUvONBOz3eptR1b1lwrus+khBMVnN3O6CjdMyilz7cqSSmV/oM3uq7FPTHM/G3JiE5OYsdiwz93qNsITZ7tIM6Is5E4tjyG3gTXDmGI9/ADSITHCESx5QerjSdhHDAxySjf+Ih0y4tg8ECCFwZRUO3XOXeCr8H6K22jq6Pk1JjiYlT6W5H7djRvm7Vn5IFfP9BLMdKdzHwDIhYYgU73XPYlIRY9W5t0xX1W+A/8N0jCWGSIO96EVOcG3wmBPbY7ly5hy+0u6Wkb1t0tFQ34nxONL6BN8GVY7jyDdwgMsERInFM6eFK00kIBn80BpNjThI4GWCCUlqKcQy0n1o9QH/WbO/XLyUhQF8v06otsZIT03RnxbEcy6q3PUYse3QW/3muyzjQO5kgcB9L9hm5h80pw5K37nV/ovdHEkLE9i8jzvtj6tV41jnt9UvLB1c0Isf/vgs3iERwhEicX3q40mwSwgkEk46l3+fD/P3LsYD5ne+E8AHy+TkCTCfnPzxLQF5xHyazQ1qmNe/hBxlxMunJL/XKL2mXHkz36KUvdyk9Hc2WNjERwF2G8fWSAOzDXSr4UEoy2GeUjmufEKuk7/Uig2TjtU9zQNa12LHISJ1bt8+KzVY/Zf2Is0Tjmu278Ca4cj4/7sINIhMcIRLnlx6uRBKyIT4eoDeYOawqJ0ZsR66Uy0tq8lLuMIedipEsPHss5cPyvfezHum1zmrZ1TzhlM+OzA9B88r3fIX87UC6ypJ5Ra9+XsSr922h/S3y5QxPEUvak2WNd+RrLgmhPrkEkfJSP7Z1wqrby3o5O5S1yFB2j5Jt2EPXmToYF/rPMuJ8ThSI9znWtlkJrmzDz1v7Ttxg24IjROLc0sOVZpMQZrFoTG45Fsmll0+cCbUH6DP9ClvXIIDEZE5CwN7v/zub/38SPzzXo5JJiXpt4s/+QyYhqJteyyySy/lbJNBU/qvZYS2LDGX3KM+OzR4+U0fEmUicX96NN8GV8zhyN24QmeAIkTiv9HCl2SQEcCXyvD7+xgfTcUWsf+KK9edH4c6D923JA/S7Vmx9IwIpaU5Luqqn1Fc1PfjfbjgjNu3GpmXPgjctR+da34Ib1+J/J+serlRnTB5FRwGks1j6lPta8lE+lPTSl9Lx2P+9CPDKNjmAUj5T8r0tf7eMbX/via1WEIjYtBKJe/kRvLlXvM70NrhxJtr3tuXhSvNJCEOBbxQO4zi/QrWRDxZ6gGY7ogwEvgWB4H+7kYzYtBublj0L3rQcnWt9C25ci/+drHu40mwSgivNz/7557sNLQXCA1ZQ55IAACAASURBVHRLfocvgcAeCAT/90DxGB0Rm2Nw/XatwZtvj/D69gU31mP3azU9XGk6CXk88IHC+Uvp+Mq1/pDc1YGlb1f7EfYDgSsQCP5fgbrNZsTGhlNIfSIQvPnEI369EQhuvLGIrToCHq40m4SwiViC1fXvV6eica0kJB6g2Z4oA4FvQSD4324kIzbtxqZlz4I3LUfnWt+CG9fifyfrHq40n4RI4J/DOHXi9Zlo6Pww8DWvRCXQUc53qwKHwCE4EBwIDgQHggPBgeBAcEDO30vbt0pC2AikHN3rS8ZLHxJjnSNKnmRH6A6dgUDrCAT/241QxKbd2LTsWfCm5ehc61tw41r872Tdw5XbJCFIPHAn5CHuhHTdYxqf/TRN194JuRM5wtdAYC8EPB3NXjZDjw2BiI0Np5D6RCB484lH/HojENx4YxFbdQQ8XGk6CckmHliChcSjgdf0eoCuhyyOBgL3QyD4327MIjbtxqZlz4I3LUfnWt+CG9fifyfrHq40m4TIj8HhK+mtJB6SCB6gZb3YDgS+AYHgf7tRjNi0G5uWPQvetByda30LblyL/52se7jSdBKC74RMI9KRNv88QLfZgvAqEFiPQPB/PXZH14zYHI3wd+oP3nxnXPdoVXBjDxR/Q4eHK80mIXcIlQfoO7QnfAwEPAgE/z1onSsbsTkX72+xFrz5lkju347gxv6YfqtGD1eaSkJwzwOv4O26zvyv77ppmq65W+IB+lvJFu36XQTO5v/j9UY82mU5PtEH5P9QZ+ir3dxHxWGcPl5+kfqXhbuxXDq6ZMfry4djzh/ExlmtCfGI83VhuBtvgivnceVu3CAywREicV7p4Up1dPYo2qN5kYTsgeKxOuTrkcGPHm8oG57HGg3tTSJwZv8A3j26z4+W0n4pCeme4wSZpeSA4DKZoF6WS68B5yBXs+P1hT6tLen72vpX1Ys4X4X8bPdOvAmunMuVO3GDyARHiMS5pYcrTSUh58K03ZoH6O3W9tdQmnSVJlM8oeUHItNrkx/dNA14VXL8/RICZ/L/iTsURp6Bp/yOEHws8VnH6n+ikO6sjOnF391zSInMUqJTsrPWF+2b9/eZsfH6VpOPONfQOf7YnXgTXDmeD9LCnbhBv4MjROLc0sOV2yQhGMzHcUz/rvouiA6jB2hdt7XfuJq7lEhA5NmBMojG+2+uWqXSWzi2vgaBM/kPjuEtedNYv+vGxBqyz6GfHo/elISA0bjTovld2o8gcoAbCnbW+rIHQc6MzR7+UkfEmUhcU96JN8GVczlyJ24QmeAIkTi39HClOnP0KDqqiWmgFx8opE9YBrQ0ITnKJ+qlL/x959KShJTahxN9nryVJK7bj8/JdP17GQ8+cPkcnlP/wJ0bTBPnP0w2++eQnkViXGtLzTQvn303PUcs/+k+JstevfTnDiVxOsNX3KXAsqh+QCy7dHci1wcgogPeqjeNKbrWJIQJQ+6uCc4NvSRLystticVaX6SOtdtnxmatj7l6EeccKuftuxNvgivn8QKW7sQNIhMcIRLnlh6uNJ2E8EojGoRJ3jAM03MY/k8qLVdGj4TeA/SRfuyhe20SwivFS3dR9vBxjQ5c3R5ey2tYH0vIeiztEUkIjs3fv0SL5r/0kDKSFbXUDElXmpSKB5b7YUwJzBa9tHuX8kz+g5+0p0sdH+JXSg54XJbsa3LLrjCQ6b4G/vCuicWORUb6s3WbGG3Vc3b9iPPZiH/auxNvgiufsTv61524QSyCI0Ti3NLDlWaTEE5u0ZjSxADHclcuz4LbA/RZPq21g5O1NJkr6WSMcvEp1cntr3UUpfjn9OT2IQnxtkvqwQRUtg9t7qAzsyyIV110ciP1cVvr5f47lWfxnzxDIiBfgoDEDz4wGdDYeSb+niRE3+K32LHIaP+3/D4rNlt81HUjzhqR83/fhTfBleDGEgLBkSWEjjvu6UeaTUI4aOtlEIRt6Tjljiw9QB/pxx66vUkI8MfrlOUEfQ8/9taBjuhzOVaX7qrp51pgt8fblLp5qQ9ii0kvfss2YrKau9uB+qVjFr17t/sMfS3wH7zVdynYdvYRlgsV1iQkJ2exY5Gh33uULcRmj3ZQR8SZSBxbfgNvgivHcOQbuEFkgiNE4pjSw5VIQjbEwAP0BjOnVMVJqe8YpEQDy5HUVX8sU8K3XEa1TOkUR3cwkpIF9X2ZdBcDrxsWS6xgCm9H2pKEWPXu0KzTVbTAf+C7RxLCJEHGmoDi3ODFENhju3PlHr7Q7paSvm3R0VLdiPM50fgG3gRXjuHKN3CDyARHiMQxpYcrzSYhvJWGxuQmBpwMlJZiHAPtp1YP0J812/tlTULSsw94nkIlJu21qO6RXqZVW2Il+ZfurDiWY1n11r1t8+hZ/M/dfSAiMkHgPpZMLCx3Qtjf6P5E72e/w7brMpIQou8vI85+zPauQT7vrXdvfcGVvRFd1ncXbrAlwREicX7p4UqzSQhgI4nQID6YjofTubymNOCfBbkH6LN8WmvHkoRgApb7gjRuosyTt7XWj6kHv3AFe36OANPJ+Q+JFK9scx/aP3//ZN6T7va83qolkxAcpd5J3DUpPZju0Utf7lKexX8mAjjfefcN+/gNj1KS4UlCgDlihTbxRQbJxmuf5oCMkcWORUbq3Lp9Vmy2+inrR5wlGtds34U3wZXz+XEXbhCZ4AiROL/0cKXpJATQpUQkXtF7CIs4MSJhcqVM9DhJy8m1moQ8+0d69a581iOXSM0Tzs9X+SJ54ZVv3T7NS76iVz8v4tV7SKAPUkoeHKT+Qy0SP9qTpeTnR4XXu89Kr+ilPrkEsXQ+6ITVY4ey1F1KmCi3V0mM9tJ3lh7Ghf6zjDifEwHifY61bVaCK9vw89a+EzfYtuAIkTi39HCl+SSE0GEyFx8rJBpRtogAEpM5CQFbv//P09HsgcafxA/P9Yi7UdpGbeLPwUkmIaifXsssLnrM3yKBpvJfzQ5rWWQou0d5dmz28Jk6Is5E4vzybrwJrpzHkbtxg8gER4jEeaWHK7dJQs6Dz27JA7Rda0jeEQGkHfPSq+opdcemFX0O/hehufxAxObyENzSgeDNLcN2itPBjVNg/gojHq5UZ0weRXsjhw/KPXt81fp9VTm96vTja8n1K5R7+6T1XYmP9iV+n4sAr2yTAyjlMyXnenONNbb9GuthtYZAxKaGThwrIRC8KSET+4MbwQErAh6uNJeEpCvK3bw2X67F5tp8LI/o+n56PLriqzmtQG2V8wC91VbUDwRaQyD431pE3v5EbN5YxJYdgeCNHatfkwxu/FrE17fXw5XmkhAmG/JVmUxM5EOdXNMt962HbF1ND9DrLEStQKBdBIL/EZt2EQjP1iAQ5/Qa1H6jTnDjN+K8Rys9XGkqCWGyod+Ekh4swrcpxMfxuE8mK3uA59HhAdqjN2QDgTsgEPxvN0oRm3Zj07JnwZuWo3Otb8GNa/G/k3UPV5pKQrjOXi7DAvC4O6ITk5LsmYEi0FE+sq9PDVwCl+BAcCA4EBwIDgQHggO/xwHLfPwWSQjeOqTveLSUhFiADplA4NsQ4KDybe36hvZEbL4hiue3IXhzPuZ3sRjcuEukrvfTw5WmkpDccizu089+xHKs64kWHvw2Ap6O5reROr/1EZvzMf8Gi8Gbb4jiMW0IbhyD6zdq9XClqSQEwZAPpuPjhPNreR8fz4NAjl/vHp/dZTH0AH2Zk2E4EDgIgeD/QcDuoDZiswOIP6giePODQTc2ObhhBCrE/i/Pt0DRXBLCOx8kPEp5F0Qe18+OWBq8pwx93FNn6AoE7oJA8L/dSEVs2o1Ny54Fb1qOzrW+BTeuxf9O1j1caS4JIdDDME7DMEzjiKc/3n98FuTZ4w4IUpLr/jxAX+dlWA4EjkEg+H8MrntojdjsgeLv6Qje/F7MrS0ObliRCjkPV5pNQu4QRg/Qd2hP+BgIeBAI/nvQOlc2YnMu3t9iLXjzLZHcvx3Bjf0x/VaNHq7cJgnBPQ/cHRkH3Au59g4IieMBmnWiDAS+BYGz+T+M09T1z//rTbvuMY3i20E5XPHsmFzOmZOR+57DOD26/r8NfceVL8Rg23WpXyW+pE/a3nObfu2p8yxd1jhb5Zb8tnKEd+FzfOIzisSd5ZXPLC61O3ecfueOtbhvDQdqccy1ETZkn9B33TSpFRqoZ/Vl7hO6/31M3z2y+nK+XLnvbtwgVta49Knvf8dF9/3UlyutHLHG3qov50sL+zxcuU0Swo7j6udAZIA9QMt6d9lGqtf1w0dnOQ7PZt2XEwE9GaTTlJlf+cy9tlJ3DIh/aUCyaby31Jn85/lPm7KUHzGViPIlF7lJo5Tjdj9M/7ku9cs+x5OEWPTR9t4l/d9b79H6rHG2yi356+EI+w7NJ/STj+6dHBN7lJGELEVg/fG1HCjFMedJyYbsE1CvJAcOyP6p1CeUxqucT1ftI6+vsr/GrjUu7AfYRpY6zjkfSjZ0XWvsrfpyvrSyj/hZ/IkkxIJSQcYDdEHFabtLxNYDKh3iwDqIZ29SFq++XE/5lkq0tXv00zTmEyZ0BmuSEEw0hgvfxtYSxvDlTP6/Jw7vZ8HmhKD/8w0hnTyXOC7x5PmByYC8u0LOL+ngAMNJ51Z90rc122fGZo1/pTrWOFvlSna8HJGTFM0FJqZyslmy2/r+O/FmDQdqcczFhvJzvz+mNRjdc74wx3Md9Sy+cEyd+5h5bEo8fOnTvMr5c+W+O3GDOFniwr46zQled7hk/7B0Xls44om9RR/b12rp4UokIRui6AF6g5ndq+LEXDqx3hN1nD7vv7lqlTZv4Yu2jkpCuu5ZTGwuauqlZs/i/8cgsbAUk7IY6J8DllX1puVYnEjKiQXBxaCgr2rxGEralB9U3aJP6l67fVZs1vqXq5fDcYtcri720Y6VI4zlUOAT+kToKl30KPnR4v678IYxlOfcEp5LcdT1OXHUNvR+qy+0r/sYrU/70crvu3CDeFnjQnldluIl5Uqx0/tLurSc/k1bpf083lrp4Up1NulRdDQIJFRtMnC0D1p/S/ho32q/LUlIqf47OSlJXL8fXLHcCdHLq3Jrc8k7xlqWuYlH6mzUMwXPcZwej+7PRGXMPOPwHJ5Tj7s4aap0PZY1D4hFTWaPY+AcbC0lzrCFeA09rjKO/yebliuMpUECOpGE5GLNtuF80se36KPeLeVZsdnio65rjbNVTuvnbw9HeP6DQ3KbulAySe0HLMma15TPfUn+Tqys29r2XXjj5YCMndyu4V+TwznPuYjXF22TE0xLP6Xrnvn7LtwgJlvikmKS6depm6WVI5TXpY79Vn1a/1W/PVy5TRKCYMWD6ftQam0SwhPGMhncx9N1WnAiLyUheKi5e3QfS2/wYBr2la5oLt0JQaeXBibx0GLS2XVTD70qsXgv7wKy8x+W/+Rkebyl0tPRbPEbuGKSP47PqU9LF+aJ3tKD6bUOXftD2WRHPPfE5Vg6yWB9Jht6ArFWH/VuLc+KzVY/ZX1rnK1yUndpm3HS8aM8+kpeCS/JQoZ467L1vpLtZEn/+bvV0ssBSxx1W3lu6zsXkJMXJry+aDvQBdxb58pduEF818SFcxy0NfX5YiygXllaOSLryG0d+636pO4rtz1cuU0SciWgJdseoEs6rti/JgnhyZnrkD1tqA3YwHOrfviCycJiElJYPoGOa550/G1VLQkBPqXjvFKaS0JaH3j+ovDecxb/OeA/uvebS2i7xpnSpPHdgs8tDghSN7dLSQj4XDq2Rt+nR+t/0e/1Gs6vaY2zVc7SghpHOInhRYmcLPtFcEC+tCO9aQdLAvHmo4UlhBY/z5K5C288HLDEMYevdULo8UXbIU9KSbCWv/L3XbhBjNbEhXMHjjWlvp02rByhvCxzsd+iT+q+etvDlaaSkESArp+6rjP/S28nUleYzwqAB+izfLLY8SYhjMseCYLFv60y7Eg4edD6aokG6paWQ5WSDOhH51G6g1E6lhKXj1fOdpPntYC6XWf/Pov/GExgSy+Xmztx3GVCN4bIff5hj/WZENakTtibJ5b9x1VPyqG06Pfok7q3bp8Vm61+yvrWOFvlpO7SdimGuclASbaku5aglupcvf8uvLFyYEscc3UZH9jnBNXqC+uinPv++Q7aXRLVu3CDOK+JC+uiTMu1H39ffCJlrByRdWqxX6NP6m5l28OV5pMQZqRoFJZf6N+RhPhpl0tCMMDm7h7gRERSKN8Y5Ld4bo1SW+hFK0kI/ZElOqErOS19Wdr2dDRLumrH9ZVMKSsnA3I/tr2TRl2fv3G+5BId+AUMvHezSvpob4/yrNjs4St1WONslaPeWlniCCcwxFGXnIDWdNe4Wat35TG280ofLLatHNgSR3Ijd/FNnsNWX9gu3j0D1jndlGutvAs3iJs3Lqwny6Vz2MoR6lyKvVcf9bZWerjSVBKigeSDw/pKQQokJgYXf+THA7Ru25W/rUkIruLWnpG4sg012ziRcwkV69Q6Jxw7azkW/dElnhXxTmy1jjN+n8V/Xh3KYVIbJNihb1nqQB26DwK+ciJixbumz6rDIndWbCy+WGWscbbKWewyHpoj1skrfclNJtfww+LzkTJ34Q1xX+oTrHHMYcoJoz739X6rL7BBvvEua85uq/vuwg3iZ40L5XQfAD218QXHNRdoO7ffEvtcvZod2mut9HCl2SSEwShdcSJxdAdxZjA8QJ/p15ItSxKCky/3Ib7aJH3J7lnHcbIvJiEXP5gOHHF1fV5HDrbPf0j8clfdebyl8iz+y77g77r7rrjunp1+bnDRONJGwv71YoH5Isj8ETo9yaR8qf/hcas+7c/W32fFZqufsj4xmydo7zdLcUkbsbbKSd2lbQ9HcrKfvuCtdq+lNjf59oPG5S68+cS9zBXdPvzOxTEnh30YK4HJx3dCXvvYJ3h8gb7SnKbkQyv778IN4mWNC+XQPrniY+53lp/rsnCEXLLE3qqP7Wyx9HCl2SSEHUVpQrZ0/IzAeIA+w5+aDeJFn3OlPEF4IuTk5slAzdr5x5aueHHAYLvQBt5pYxtzd9aY7FJGljluJvnMK3r18yIpmesf89uexAPXucTvfDRtFomFTXqbVC0OuauhsEbO55IQ4A//Zd0Shzj5lS2o6aacRx/r7FWeGZu9fIYea5ytcrk4S38tcaR8SZY2iDlL2Z9SR+slfW/dT/hn5YBuy1IcZZ9AWeLCUvf9Fl9qMtCrdWq/r/7Ntl/th8d+DXMZ5/kc/vviE30O81yXdS0cqfmhY2/R58HgClkPV5pNQmR2KgNOQEmG3ASBMkeXHqCP9iX0t4sAOqA5CQGrv+fvbP7PzyfhA4SP9G/pWwzszK1JCCLDq+6wgQFo6N9faJeR46DC5FYek9tWfbLOHtvEaA9dZ+uwxtkix3EiN4agXTWO6HbXZBMf5MWHDq/6Ro17/d2NNxYO6AiU4ljiCmw8RGxzF6tgY8mX0kUJYh5JiI7UPr+X4kIr+hzOXRBcyxFv7K2co++tleS0xa9mkxA4z4CnycCzn8ZxnIZx/PhWQGlwsTR+q4wH6K22ov49EUjJdD+Yvtp9txYG/9uNWMSm3di07FnwpuXoXOtbcONa/O9k3cOVppMQgC6vJLJhKJGYyPV7VwSI/lxhO2y2iQCvspEbKOer6W36u8UrtnGLjqh7DAIRm2Nw/XatwZtvj/D69gU31mP3azU9XGk+CWHwxhFfTB/Svwk/GvjzAN2Au+FCILArAsH/XeHcVVnEZlc4f0ZZ8OZnQu1uaHDDDdnPVvBw5TZJSIvR9ADdov/hUyCwBYHg/xb0jq0bsTkW32/VHrz51shub1dwYzuGv6LBw5Xmk5AnvlVR+Ir641H+WvIZwfYAfYY/YSMQOBOB4P+ZaPtsRWx8eIX0jEDwJphQQiC4UUIm9msEPFxpOglZeqMAGvosvL1Gg3LEbwId5fy2osAhcAgOBAeCA8GB4EBwIDgQHLDMu5tNQviK3vQA+vic8BVpbE/jc/6+w2N+VWe8HcsS5pAJBPZHgIPM/ppD41YEIjZbEfzN+sGb34y7pdXBDQtKIQMEPFxpNgnhW4b47mx+ZI5JB1/fG98JCdIHAtcg4OlorvHwd61GbH439ltaHrzZgt531w1ufHd892ydhyu3SUKYdPDjYDpJ2RNAqy4P0FadIRcI3AWB4H+7kYrYtBublj0L3rQcnWt9C25ci/+drHu40mwSIpdjYQkWv1DMrx9HEnInSoav34iAp6P5xva33KaITcvRade34E27sbnas+DG1RG4j30PV5pNQgA3735gydUwDdPj0afnQoZnPz36Z1p3Fsux7kPM8PS7EPB0NN/V8vZbE7FpP0Ytehi8aTEqbfgU3GgjDnfwwsOVppMQgI0vpvePbpqm4f/dEDaw7+YH1a8KCv24yn7YDQSuRCD4fyX6ddsRmzo+cTSPQPAmj0vs9T1sHHj9NgKefqT5JCQXyhFfTG/gq+keoHPtiH12BHBXjC8psNfaV7IFH/Zt0TZtZ/N/GKepe90Bhe2ue0zj0P9pBL4t9Ojmt+dBzvIaby73ZJt0yTfz0dgaG3i5BpeTUs9RJf0/Sv8Rer0xwAWqR9f9fxOLJc45v7m0NxebJRten3P2W9p3N94k/MW5Pl+YREQ//9B3yD6h77ppGv/Kfdaaf83n+ptnW21Yfc75cuW+W3Lj8Y4b/WeZ79Pf8qU452Kw93hgHetyvrSwjxhbfLllEmJp2BkyHqCP9oek1SfW0XbP0l9LAPjmtHlpns0j1kEMrZjVfLBZ/S6pM/nPiSJtypJvzAO6iJE8xu2lBNYzmVxjg988yk10j2AF232E7qN0emJAPNlOlktxzvnOvkDHxmLD43POdmv7iGNrfuX8KWGv+/NS32HhSulcX2vD6nOuvVfvuxM3gFUJa7ZDxtAa51wMSnVr/GLfovsc6C/xFX7LsS7nSyv7iLHFn6aSEIBf+jp613VT7l+6opHCZmnuvjIeoK2WSwTMkRU6U/LR9elq7zAOU/fo07dUrPbOlPO2zeMbOgJPEkLdiXMNY0Y/WyyP4H+pne+JIpZm4rUVHGT6V9zH/503Bhd5hyRdpXp0q+5CcIDRb+Wz2oCnXY/n2eYPV5XO41K71+6nvbX1W6pXikE6319XsyXOnoGakwHgJWPDvmqtDe1zS3jWfLkTb9gn8FxPHHjO5xrPV7SVMR6ec99RktO4QI7fJxuHZzos60q+WG1Yfda+tPD7Ttyo4aXPTU+ctV72E3uOB+TIID7EPSdU77FO+9Habw9Xmk9C5O12LL/Qv78tCZFkAhk9A+qdJtTetklcctuAKpKQHDLH7fN0NFu8YEc/xxdDRv6PV77kBISSmCTUrkxRTpY5ux4brI8B6jlgeVj/MdGVtvbePis2e/ut9RHDpdijXi02Wq+UHxyxsdjw+Jzz68p9d+INxhDNC2LPBIETTC1X2i+xL8Va19W/qSO33+Iz67dW3okbJezID8kHa5xzOkt1IavHHNqujQeUkf7l7La+z8OVppIQDSzXceqApJO7HybPmj2te4/fHqDX2PNO1EHglu+ESAysbYMcccbJi9c15/6YhJAzrLPEEQtmFh/YGcEurszJq99PrD/O3K1L683FmlW0T179YDvB9/45pDuBsl28Okc5lNIPnDeoO/syr3XNTdBlfc82ffHUWSPLK1dLCTnbnmsjBoQaf3J+Ie66jscGuDX04Ov7Lg0nRzl7e+47KzZ7+pzTlYtBTo5jgo5XThb7ONgjHnK7JI/9VhtWn2u2rjp2J97w7gPvhACz//vSXY/POGtMESfvhQnoSDzonv8vKNT4o2389088y/Z/38tn7Wcrv+/EjRJmnnNTxzmnc+/xwDrW5XxpaZ+HK80mISRAaVBh8HWCcmYgPECv8QsnzNLES+pFZ/htSQjbt9Q2QIU7Zd2j+1iKg4k+9pWSlyW9tI/SIsvb93My8Z64zDx9a4O/KTkRL1gA5/vnOO9/LTlijVkMEvNfSrawjEwMZjyGEvqRgGF5IwfppL/DpBgt2f53NP/pYYotkrvxmZKxxytx0w+mo1V8jbdM0Lgcq9SX0I4s2b/opGGtDdbT+qTNPbfPis2ePmtdpRhIOY4TaG+K72vZjJTJbaNv5dixFBuPDYvPOX9a2Xcn3iAu8mIPfWffC0wZj70uTEAnkwb2vR4bFp9b4YL2g/jq/Xf5zThZ+2Ad51w72Xeg7/GMOaynfbGOdTlfWtrn4UqzSQiDVLpSsXT8jIB4gF7jz5VJCGyzfbky16l72rh323jy5pINHNNJAH0Fj6yJm0UWSYjuWND58TXTsIuBqK8kA+j8OMDRz1wJuVIc0OZ07hjfAJPTv7SPvFiS23oc7UQnL5di0jZKiQEHDnmc254kBPwsya+xwf5Kc2MrNqX6bHPp+B3212JA/3lOkhulmFEepe4rlmLjsWHxWfrS2vadeKPvetN3JpfAlhNP2UcQc/YruTGDMrqc715/Pj/ksWHxWdts5TfxbcUfrx+eczMX55K9PccDcpL9GTFnmeNxya8r99Nfiw/NJiHy6lNuQoaBBA2VHY6lwXvKeIBeYxcnTa7tJV0cLD2daknX0fv3bhugqiUaPe4aZO4AeDCzyCIJ0TFDPWmfgxb5kyv1ZBV3SGTHxEl5qVOq4bFXbOn3XvpKetjJ66V1XM6mL1RwP/wDTml5nGM5FuK19PyG14ZFZ6n9a/afFZs1vlnqrMGLdwdrYwLPPXneeGzVbHj0WDC4QuYuvOH8YD6/30t0eV6y/8zFm7hywmcZL+UdDM0vqw2rz/SvtfIu3MjhZj03a3HO6eU+8s465pT88Y51tN9a6eFKs0kIQGWigY4GX0nH90GGcfxYkqEnfGcGwwP0Gr9yE3WQt3TlvnZsjf0j6+zdttqkG7jIJEC2y4OZRdaahMg7I9Kf3DY6l7p1dwAAIABJREFUJkzAR3VXo3sOH3cBZN0aHlJuy/bR/KdvaAv6gNxkwTqRAN90skL9umS/4+1bajbAnaXERvux5fdZsdniY63u2hgs8YGDPPHRZYln0teSjbU+S91XbxOPq/1Ysl+b+MvzkOedTDqpW8pxX65k8gBscnqsNqw+53xoYd9duJHDynJuLsU5p7e2r8YvcobJMvXAz1IfVOp3WLel0sOVppMQgCozTDYMJQLFte5XgU9/jrIPEuuJEMgbSchfxGsnL47V7pKU8NRWathT1pKEQDYnRx267HB3JfNAPjql3KCI+rU2a/1rfx/Nf/rFwVufCzhu6ZjZ4esrmNSvy9rgoWX5e8kGj+tBh/X3Ls+Kzd5+U18tBuRDDsslPuA4scmVnACssVHzme1qvSQmrfvJ+OT6P8kBTiz1uV/ar9vN87Y23yjp0vutPmsfWvl9F27k8Fo6Ny1xzukt7aM+zTvK87juw8iRtWMd9V9derjSfBJCMPFg7jAM6V8LX0uHXx6g2Q5PiRNHkxHkLU2aa8c8ds+Q3bttKQlp5MH0XMz0nRh0NnhgHnf45qdEZtTBcyQocnAFVvJhSywJ4ZfDpZyM2zclIRzM54nA36UX7OgpJ5+FmddgP9O5WsJK4kYd1CmPYZvHvTZKg47Wv9fvo/umvfzM6SHGSzFAG+WFqPmClX+Jbi429MFqg/Iln3PtbHHfXXjDmC31CcAY/Sfa9fGdkNe+pT4BdZmY1uJlseHxuWbrqmN34YbGx3JuWuNc0r3XeEBfLbzWvrT028OV2yQhLQFMXzxAs85SyY6KunOl7BRr8lJuye4Zx2u+sp3S56WrlhxAOABgAjBPOvFNhvnjcPo5ArTTqtcjyysYtMsrHEgGuA+lTFCQcDCZoAy+eyPfsgEf0DFJufmtUM//7ZgnPnMEiQX1yZI+zZLb/6fu7ZqWNWh8aRulxLQUWz05ZFxkXXhBjtawstqQrbLolfJbt4nPVj1X1LdgNcdvfu0024pS9h/wvRRn2a6SPasN6CrpkHbusE0s7+ArY0ufZSnPa8ZGHse2Xp5Jfaxb63N0fa8N7Qt+026r2NPnVv0r+cXYlPp0T5w1R2Bz7/Gg5k/rHGEMPFxpKgkBWfBKUUzEhgnfReizX0mXX07/5o8VMqBRBgItIuDpaPbwP90B6nSC+b4zQhtyCScmpblvr+QGE9TnAMAElzp1abEh6ywNhFJ2j+2zY7OHz9RhjUGS++ADXsUNpN9/pTi/JeoJhMUGdFl9lnZb3L4bb9Lrtz84kH92zHJxSnOlNLkkRjqJsdhIXBnwkpHlfqw1frDdrfm15M/SuemJs+YIbe89HljHOtpvrfRwJZKQDdHzAL3BTFQNBJpEIPjfZFiSUxGbdmPTsmfBm5ajc61vwY1r8b+TdQ9XmkpC7gQyfPUAfbe2hb+BwBICwf8lhK47HrG5Dvs7Ww7e3Dl6x/oe3DgW32/S7uFKJCEbIu8BeoOZqBoINIlA8L/JsCSnIjbtxqZlz4I3LUfnWt+CG9fifyfrHq40lYTwmRD5zMfSdjwTcidqhq/fhICno/mmdt+hLRGbO0SpPR+DN+3FpBWPghutRKJ9PzxciSRkQzw9QG8wE1UDgSYRCP43GZbkVMSm3di07FnwpuXoXOtbcONa/O9k3cOVppKQO4EMXwl0lPPrcAOHwCE4EBwIDgQHggPBgeBAcMAyp48kxIJSQYYnWeFw7A4EvhqB4H+74Y3YtBublj0L3rQcnWt9C25ci/+drHu40nwSgveAl74X8nh0fz44dGagPECf6VfYCgTOQCD4fwbK62xEbNbh9uu1gje/zoBy+4MbZWziyCcCHq40nYQsfUQGDX323eub0p8gnPHLA/QZ/oSNQOBMBIL/Z6LtsxWx8eEV0jMCwZtgQgmB4EYJmdivEfBwpdkkZMQzF91zwhePx/H5f3san1P6Mulj/uLolZ+x9wCtgxS/A4G7IxD8bzeCEZt2Y9OyZ8GblqNzrW/BjWvxv5N1D1eaTULwut7Ho/+/3OrRD+lBcCYd/TA/GP7s0ASkLOf/eYA+37uwGAgci0Dw/1h8t2iP2GxB73frBm9+N/ZLLQ9uLCEUx4mAhyu3SUKYdIxPLL+aJp2ksPFnlh6gz/QrbAUCZyAQ/D8D5XU2IjbrcPv1WsGbX2dAuf3BjTI2ceQTAQ9Xmk1C5HIsLMF6jrjz0U1DP7scSchn0L/9F5LQ/oHYI/LX/LXgwzUtz1v1dDR5Db69vBtKuyx5YYLa8DKLR9f9f4V2j7ulo403aalnNy/1hP70MdRM3dQffcjlbfTKl7OeYSM2xOROJWLQ9c//8eu6xzQOfbUJHA84PlSF0YtgPPmIX5fliNWXLZxb8vXM43fjjTU+EkP0I1aeoN4c23efoM9hzk2InS6xpBxzGP4t6aNcayXb1ZpfS/5Yxw2px8sRa38ibVj7LK8v0sZV2x6uNJuEADze/cCSq2HCcqw+PSMyPPvp8RqkYjnWvBitey1XQ/Ax6RqHd6d3FRH3tFtLANjJzFywWWUd4KUHiZKGmg+lOt+839PRbMWBFyVoU5YyCWGfIY9j2xJjDgq6rk5+S5MObaP0Yg2tbys2ufpsQ+5Yy/tKMUB7uBQ35z/PZ8vksmRDx6Ukp33ZwrlcW67cdyfeWOMj8eQ5aeEJ6pViK7lS6g+IpewXLPqkvy1tsz0t+bTki3XckHq8HCnxUHJE6ue2pc/y+kLdV5cerjSdhABIXEnsH1iCNfy/G8IGzlc4r5ts0489A14idKnT5Ek2iLeEpSstwGzh6uGeflt0edtm0UkZdO6eJIT14FP36D+uVPFYlHUEjuB/ySIH+hqneS5g0GcSjn3dc36erHQO0eb/Dj8t+RzTk2asKxMdDh68Oi9tUI5cT5x83UlJcurZNtreuzwzNnv6Tmw/+rN0F7x/nd9A8fOPcUObl2KMmpQfjHGu+QJv/r9A5XXhR/LB4s9na679dSfeeLgizz0rT3gOz/3J+04cx9el2DLh0H3CWn3XMuP9cear/fDYt4wb1LeGI6hr7U9oR9YpcXGtL9LGlduefqT5JCQH5DiO04R/F/95gF7jKjrZ2qQLOt+T70885qrV8K5xabc6lrZ5jL1x8NSaF3dFEuLDjNJH8592UCK+8oqiPMZtDjgc9LkfZwYmirW7piWZ3H5wV+vihGVpYlLykb7uVZ4Zm718JoYa25p+4jkMWC7TLyYhuXhCv95v9YX213Cu1q6rjt2FN9b4AEfKov94GnmCeqXY4hgmnrUr3bQpubxF31V8kHbvwg3ps2XcgDzj5eWI7jdou7Qfx8mDUp+11hfabqH0cKU6S/UoaqHhZ/twND5bJuprJ+VnYWhtG+SIc20Syvb+XZuZX6vPduKEX0pCLD6wY4GvuEIul8c9u/lOHm2yTM8LPN7PLqB98qor5dCh9c9h6tRzDrzaTzmU0g8MgKg7+zLb0ZMlWde7zbh4662R56DfD3hWYG6L9U4oB4RagsCOPyeD+MsJB6988U4I2vN/3+vFGbk2Jj/6YTGZytX17jszNl7fSvI4h+H30oUX1pcxk9s8nitrcjLOXl+0LQvndJ0Wft+FN574IOZDjxUT4//JZu481/izL831mTjfa+MRuKSPb9Gnfbvi9124IbGxjhtrOWLtT+iTlJfbPI5yrS9Sx9XbHq40n4Tg1mfX92kChkmY/pceHE1hOx92D9BrvENHZh2QpX4OgGvqSj1HbnvbhhOzliwAKjzA2j26j4dYMdHHPvlgoGzXkl6vLJdmzMnE6wrr/yvnb23wNyUn4o4e4tY/x3m/eu30LAaJ+S8lW1hGVlhyB/2YpHdd/x+PpL/DYIxWb/87mv/SQ/CF9nRZwoD1mSDU5DwTBOAok0z6w5jTLkvIgxeQSxOTE57Xok/04Q5lOodf34VC0s1ks/RgOjjBK81gtOVOiDXOXl80vhbO6Tot/L4Lb9bGx8oTxIKyOGflBR8ux9JJBuNHjulEZ60+6r26vAs3JE5rxg3GScdP6uU2Y21NVL19lscX+tRC6eFK00kIO3I2SCcg+B1JyCflOOHJnRSfkvVftZMX8dhDf21SqL3DybiYhKi3kFAHBqx5ssI973JJ71tyHpRqPkAWk03deaGj4nNNkFlKBsB7CzaQK8UBbU5X7zNvdpJt2rLN83KLDktdclpPBuY7SY//E9GcLsromGhZz2Ci77YRB06ItW5yjG/sKk1edL0tv+nTFh1n1wWfgQ1xYhtYSq5zEsqLC9bB2hpnjy8aJyvndL0WfhPrFnyp+bA2Plae0DbsEBNdls5jjJ2lY2v00ZerS7b/aj+s9teOGx6OWPsT+Lymz/L4YsXlDDkPV5pNQkggNEYOPmcAaLXhAdqqU8qhM7NMRlkHhE1XvitLQih7dbmqbZUHyAFVLdHoUTdzByBhVtErcbLIIgnRMUM9aZ8dF/mTK/WkGXdI5OSMk7XSuVHDQ7Zpyzb93qJja93SgI/+g3crSsmBtM2Y5PDkhAcTXvZLwF9eHZ0nnu9XiEvdcpt3sCw+yXre7RZi4/WZE7R5mR3OmvmP2HJJXC5WkN7zTojVF/qI0ss5WbeV7bvwZk18gLGVJzIe5B+wmc/7Pi2/zCUaFv0efdKPq7fvwg0LTqVxA3UtMaSNXF/EY3LcyMlZ7FhkaK+l0sOVZpMQgs+BpyWA6YsHaNbxlLmJOnDJXY3H5AZ3huQ6dY+ts2U9bYNvpXbT79qkG3VlEsA6Fr1eWWsSIu+MSBu5bXRmmJiN6q4G3tyUmzRDRw2PnI01+47mv8Un2dFTnokC/CvhQ1mW7G9y8uAq+6HcYEIdUo77cmXO55zcln0txMbrPzibm9hBj8QM22xfrizpgB5rnK2+sI1rOMe6LZXEsyWfcr5440MdjL++yMPj1rJ0rsMvYKgvRC3pLelbqnfm8btww4KJ7E+0vIcjlF0aN9b2WdS/la+6jUf/9nCl2SSEnXptQDkayCX9HqCXdOWOo2PSnRlIqZMQXFmpPfeQ0331Pmvb6Geu3TyGsjYo4VjtLonGU+qV20s+QNaShJTkpC253eHuivjYFY+hY8t1fjheazPrby2P5j/980z82Wmj3/Ak5Oxv9B0Kvb/mixzYKJcbPKQc27h3eVZs9vSbmOk+DzYkZthm+3JlbczQ8aT/er/VF9Rfyznabqkkni35lPPFEx9Zn7HKnZdSrrZNHbqvQJ01yURNX82Ps4/dhRvEhRzJjZG1ODEeFo7ofoO29f61fZbHF9puofRwpdkkBEBiIoXGzGRAWNv68wC9xnPLRB3kzn3V+YxJ6Jo2sY6lbZRFiZOxliygva08mK4nUfBd34lBB4nEER/enBdyzK3FA+hIZGTHCazkQ8/prtfrY51STuJ1RvyP5j/bww5dJhbYx294yMECWNUmodSZK1E39Tfy+xGvfcSZg8Lsy/sbRVxiwYkJfYY+mQzNcvXnWHK+efedFRuvXzV5YraEbU4H4yK5kJPDPkucPb5s4VzJx6v234U3nvhILD08oQ35bN38PNj8kgn2CdRPefYB3M+Sx636WK+V8i7cIF7E2zJusA5KD0cgb+lPpH5uW+xYZKivpdLDlWaTEICP5xvYGJQgk344/dseTCfpZLv1NnDglXGeAFoGv+fOsB1qetu2dPWAgwAxQHvnQeLNG72+HGhY9XpkedWFceBkiIk098sEBQlH90omeBx8ls8awAd0plJuflvQ8387ZJyJBfXJkj7txQjq3ktfTY/GkbbluaBjQBmWXFIFO9Qn41Hip6wn61KvLKW+2cb7FcyUkz7X2rzlGG1t0XFF3VoMJbbaN8ZOc3xLnC2+1GQQA80d7Xdrv+/Emxr2Ja6UeII45LhSGityiUZNN+Ps0cc6rZR34gYxY0zpO8taH1yLI/VJflGeulkunfusp/ss+o7SIiPlW9kmBhZ/mk9CdNKhf39bEmIJWsgEAi0g4Olo9vA3TTrEhYn5Fcfopue/0gBPP+WgkBtMoMWSxEIuvaZT+DInu+87Iy+X5u+2fMjhddFvnym3d8k27633DH3pTt8HZu+LLiX7pcF6a5yXfPFwruR7S/vvxpul+GhsSzyBXIkrvMsJbDB5zX3LCfWZFPHimLbN31Z9lG+lvBs3iNvSuEE5lms4Yh03aANlzQ7lLDKUban0cKXZJKQlQEu+eIAu6Yj9gcBdEQj+txu5iE27sWnZs+BNy9G51rfgxrX438m6hyu3SkJGrF+Zv9rWRDw8QDfhcDgRCOyIQPB/RzB3VhWx2RnQH1EXvPmRQK9oZnBjBWg/WsXDleaTkPl26/wgGBqGJRXDhIdP+2lMD/VeF2UP0Nd5GZYDgWMQCP4fg+seWiM2e6D4ezqCN78Xc2uLgxtWpELOw5WmkxCuscQ6zP6Jh427lISM05DeIISGygeEzg69B+izfQt7gcDRCAT/j0Z4vf6IzXrsfrlm8OaXo19ve3Cjjk8cfSPg4UrTSQjf9INEgw/o8OFSJii5t1S8oTh2ywP0sZ6E9kDgfASC/+djbrUYsbEiFXISgeCNRCO2JQLBDYlGbNcQ8HCl2SREJx1Lv2uAHHWMQEf5+HiVcuAReAQHggPBgeBAcCA4EBz4XQ5Y5t6RhFhQKsjw5Cocjt2BwFcjEPxvN7wRm3Zj07JnwZuWo3Otb8GNa/G/k3UPV5pNQvi1SzQmtxyL7/SO5Vh3omb4+k0IeDqab2r3HdoSsblDlNrzMXjTXkxa8Si40Uok2vfDw5VmkxDAzOc+5IPp8zbeltWlDwfxy+FXhMUD9BX+hc1A4EgEgv9HortNd8RmG36/Wjt486uRX253cGMZo5CYEfBwpekkBM3RX7tk40pfKD6TBPTlTJthKxBoBYHgfyuR+OtHxOYvJrFnGYHgzTJGvyoR3PjVyPvb7eFK80kIm49vFA7jOI3j0MwHCz1Asx1RBgLfgkDwv91IRmzajU3LngVvWo7Otb4FN67F/07WPVy5TRLSYgA8QLfof/gUCGxBIPi/Bb1j60ZsjsX3W7UHb741stvbFdzYjuGvaPBwpckk5DmM06PDxwnnV5vNS6/wkt62/uhfW16FN4HAOQiczf9hnKaux/Ngc7/QdY9pHPo/je1T/9H9l3v23TRNeNXF8h9sfPY93TTh7qv6m/uot41SH2XVp9Rv/kmMNiu6QIE1ztI1vsJ96KtD2v8q1rhYfbHy4b8DjW7cjTe++LznFJY+gc+kEhNd4vlU+UyqnreUbNyVK2x/o9R1uWXmzZ/xADH/Ox5I417e8Ht4xJfl+MS4dc8/tsHifbXH9iiyGLPI8K1XsN333dS9khF9wlt0HS1zNj6YRnX98H9yhYnPODyPbmboDwSyCJzJf04yaVOWeHse/7rn+P/8kDL8yCnlcmXJhq4r+yhpQ/dRVn05X7buo19b9Zxdv4QZ2iPjrP3iQG5JQko2dJxLctoXKx+0zy3+vhNvtsZHx1vHwzOZLHFA2yjJ6b5D+9LC7ztxo4aXlTel+C/FqlSP+Mn68i2wPM4ykpBp+j+Y1wK65zEZEDng8MS1DDB7+rOki2RZkssdL50IpTYSm0Fc1U1XVB5ddXDO2f6lfcC5e/QfV6x+qf1HtnUL/71+vSeZ77sac2ffT3xNN8+p9Pt1tUom7rJPydlnAjOkK1BjunfSPeeknwMCz0MMJLwAkGy85OT5a9GX82OPfWfGZg9/qcMSZ8qyJM5os8Sfx3VJ+VqcUcfii4cP2o8Wf9+JN5b4sE+Yz9f3xQqOnRa+6DhxPsI+wWrj7ly5Ezd0zORvC28gTznebZf9PGMv9S5ta95AngnL0ti0pLu14x6uNHUnhCezvnpQ2n818B6ga76C7EskhAgnW1LXXLUaRin+c9vgTiQhx4R9L/4vecfzP8f/pbo4zo6+NnBwgqBt6P0lXVpO/6afpf08vld5Vmz28hd61sSZ8RgGLLXpF5OQEv56v9UX2tfc0vr2xOlIXXfhzdb4AEMko3qusYRtzm6JA9pGSe4uXLkLN2oxzMWvJI95mR4PWN+bvLKe1of5m7wzUvLlbvs9XKnOXj2K9gCJgdIdQ2n/Hja36NgLH0sSUvLznZyUJM7fz84W+OAqglxC9uxwJRsR/fxL6/gf7zX2ODHlXR9IP7r38wB60OfVTdjEic6OnTHSpa4P/agjfUUd7cOatn22dPlXn66qv7HAsjvs0x1f8kU8O4U1yM8Ry5HO+YYOMV1u0TYJcBy2lhL1nJXEg35Y7OjZx2iMoRPnp+6TtC3yjfW36tP6vb/Pio3Xr5q8N84SY7lds1GTk3H2+qJtaj7o463+vgtvrPFhf53r7zFmeCeA4Iius9XGXbhyF27Uzi0rb6CDcwreCfnY53xeI8cb6sPY0g/zt++A8fx84b2X2Xu4EklIjbELxzxA11SBoKsnWN1zVd2aP3sdQ9LwTibmST7aOl8NeFtB81Nygvcwv/6w1T/Heb94qBg6S1hhMJiTnLceTDosd0KSXNf/X2JDP3Dbvs8kTta2UY+1RBKkEx8maJzgQhcwSxNj8ZAc5Lqum3os0cskelYfrHJ78X/JHtoKHo3jMyVjSLJgu/RgOvRxYE9yKYGpd+pbJxIcsMjNrfqWMFk6flZslvzwHPfG+d2XjP/voshzJGfbGhevL9qW5oM+3urvu/DGGh8mnan/EM9PcjmWTihqcSF3NMe22rgLV+7CjVoMrbyBDowh+qIkMJjH55qVz2Ml3kAKfRhx1SXHkk9t9/jFtli8jSTEglJBxgN0QUXavSYJ4SQrd4WnZksfq50EaN8W/Zio6w4bJ6ScJKMdPRKLwqQZHbQ8GfGbPqFDgY88jt/anjUJAQ7UqzGCTa3X0jbo8eCb85++yGOpcwRm49+JNXxdumpPnVvLvfi/5AfahMnCo3vfHaLtEkcZd9ZZmmxwoMhxgPZzeMP3OUn8fB5hi74lPCzHiY9FthUZ4syYsQ0sZWxwPsiYciKoz1PdNmtcPL5oGzk+aJlWfxPrVv2jX574QJbt0qXkEHWXSvTlJfm1Nu7EFWJXwucO+z280W/QY/v1kqqldpd4wzkcOMXnC6GLnPDaWfLjzOPEymIzkhALSgUZD9AFFWk3SMqJdE2Ox9IEC1ftnbcEWf+sMnfXAr73eFD8lXRwUkAsc6WcWMjJOCf4PI7fGhNORksTSGLRFSb1OA4f5zsslJ6XhumY6ba9pW1bOf9zNeGPTOSkTO2YlNtjm7HaQ1dNBwd4/RrcubPGnR90Y0A//5cGk8f7AfacFHmo+QNZDlyaQykZfF3J0gPGGn05v9buOys2a/3L1bPGOYctom95JiRXl77IOFt9YV2UNT5IuZa378Ibb3zYV6B986SvL57XufhY+OWxcUeu3IUbufhxn5U39QSh+3NRkvp1aeGNroPfmAuUEt6cfGv7PFxpMglhAyzl0gTkyODQv602QLjchDa3jCi937rrst9H2OrH3vWtSUhpQp3zByc1kphhwtWtfur7Pk1CsSAjl0hAPoej1p2rSxlMXCIJIRrvci/+vzXmt/RVbyklJ45yv95ekuNgkUtCcH7qfoaDFDDI1fHq0/5u/X1WbLb6Ketb48yJBNuoy9rgbY2L1Rf6v8QHyrVeEsvW/fTGJ9ee3Hmdk8M+2AM2epwuyXN/zsZduXIXbhD7XGnlTe1iRS6mOVvYt5Y3S+NVyV4r+z1caSoJwcnZ9895YonJpeHfs8dVddQ8/88DdM07kFp3brnJM660dFjvn1mGU9N/1TFLEgLfcnI1n5Ew9M/n/+QDycjziWTk/fpW1s/hyGOyRAxyk0nIoEPg3RbWyfkMW/IuD2WtJWign5fJ1QXbS0kTfNUT5pyOPfbtxf8lXzgg6HME9WRnTTkdKy2Xs8eJgb6jkdvPiSyvqG7Vl6u/dd9Zsdnqp6zP+C3FGTFn+3JlLQnJxRM+6P1WX1DXwgfZzpa3iWfLPsI3T3xybWHM9Pmek8U+z8STOnI2uK/Wd7B+a+VduFHDzcobyuXmBHLMqdnCsRpvajZq9ZZstnDcw5WmkpAWwPP44AG6pheE0wMvOit5BT9NLvGAtHgQGTqtE9ea/aOOWSfqOBmRXA3Pz4QSz6lDh+4IOAnhZBP4IRb8LdvDycX8TYD5SHooUS1nS3inB9Pf75KHNBK/0oPpuZhtSUL++yq+BQMfxnFMD8hJPxD3lGwIPqQk9QsfTCcu88D9fg6Gyx84kaAcuCDfaDLLzW9Nq12w+M8j+Z2QF7ckByFXm+iSf1Z9lN+z3Ktv2tOnJV2M31Kcc3o4ucv1AVreEhePL1Y+aD9a/H0X3ljjQznZV85r/ec3LcrzuhQP6mA/o+V43GLjzly5Czd0fORvxmqpj2F/siQndett2lrizWxjnnegDr9NZenLtM1Wfnu4EknIhqh5gNZmSHLqyJUgJ+96cODMyc0k1xau+80Mn77yZMLEmftQykk8Eo6uf7+CF8cx6ZYPbLFF1M/61FsaUPQDZqUvzacOQL2tQr+pirbZDkvb6LelfPvwfggbb4HSCRp0JV8yr+j1LG+z+FSSIQal43vu17jTNkryAPZmLryxo5w8l95yn3VL56S8s1TzA7akrEXfnhhJXWy33HeH7Rq+Ms66LcSa5yOPs2+QdSlLjFjK2KG+xZeajOYDfWq5JBYt+0jfatjLePOiFdvGUk8Oc1yBLfJFc4t+oLTYqPl7B64QN9nuO27X4iB5Qz6w3bLMycl9wMXCm5INPV7dDWdiZfE7khALSgUZD9AFFbE7ENgVAXSwuWVpuxp5KTub//PzUPgo3SP9K71PPQ0yIjlLd5DEHSO4z87/z8CR7r5pGxhO5r/SZOO/T0iKxEPyuQRY382k7j1L+rOnzrN0WeMs/SkN+GvjTN1Lvnj5QL2tlnfjzVJ8iDPvmqJ9mODpi0uQK3GFk9bSRS6rjbtz5W4r9H9MAAABsElEQVTcYFxypZU3XDXBtufGnK280ePV/LmC95iT87/1fcTL4mckIRaUCjIeoAsqYncgsBsC6fZv+s5I9bTezV7wfzcod1cUsdkd0p9QGLz5iTCvamRwYxVsP1nJw5XqbMWj6BeRDnx+MerttJlXf8lDlN4PKW1pDe1u0RF1j0EgYnMMrt+uNXjz7RFe377gxnrsfq2mhyuRhGxghwfoDWaiaiDQJALB/ybDkpyK2LQbm5Y9C960HJ1rfQtuXIv/nax7uBJJyIbIeoDeYCaqBgJNIhD8bzIsyamITbuxadmz4E3L0bnWt+DGtfjfybqHK5GEbIisB+gNZqJqINAkAsH/JsOSnIrYtBublj0L3rQcnWt9C25ci/+drHu4YkpCqDDK+a08gUPgEBwIDgQHggPBgeBAcCA4EBzIc8CSOEUS8nrdZ5AoT6LAJXAJDgQHggPBgeBAcCA4EBzwcGBzEmJREDKBQCAQCAQCgUAgEAgEAoFAIBAIeBCo3gnxKArZQCAQCAQCgUAgEAgEAoFAIBAIBCwIRBJiQSlkAoFAIBAIBAKBQCAQCAQCgUBgNwT+AT+Um0Di/RZhAAAAAElFTkSuQmCC)"
      ]
    }
  ]
}